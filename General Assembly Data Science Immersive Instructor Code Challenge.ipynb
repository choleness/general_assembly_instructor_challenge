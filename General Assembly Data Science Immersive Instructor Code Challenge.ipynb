{
 "cells": [
  {
   "cell_type": "markdown",
   "metadata": {},
   "source": [
    "# Part 1: Modeling Challenge"
   ]
  },
  {
   "cell_type": "markdown",
   "metadata": {},
   "source": [
    "## Python Coding and Data Set"
   ]
  },
  {
   "cell_type": "markdown",
   "metadata": {},
   "source": [
    "Import modules."
   ]
  },
  {
   "cell_type": "code",
   "execution_count": 111,
   "metadata": {
    "collapsed": false
   },
   "outputs": [],
   "source": [
    "import pandas as pd\n",
    "from scipy import stats\n",
    "import numpy as np\n",
    "import numpy.random as npr\n",
    "import pylab as pl\n",
    "from sklearn import svm, tree, metrics\n",
    "from sklearn.linear_model import LogisticRegression\n",
    "from sklearn.naive_bayes import GaussianNB\n",
    "from sklearn.cross_validation import train_test_split\n",
    "from sklearn.preprocessing import LabelEncoder\n",
    "import matplotlib.pyplot as plt\n",
    "# show plots in the notebook\n",
    "%matplotlib inline"
   ]
  },
  {
   "cell_type": "markdown",
   "metadata": {},
   "source": [
    "### Load in the data file and header file provided. The dataframe does not currently have a header, load in the header file and attach it to the dataframe."
   ]
  },
  {
   "cell_type": "markdown",
   "metadata": {},
   "source": [
    "For this exercise, I am assuming that you have the 'field_names.txt' and 'breast-cancer.csv' files in the same directory as this python notebook. If this is not the case, move them to this directory or change the path names accordingly. The header file is a .txt file; we will read it as an array. "
   ]
  },
  {
   "cell_type": "code",
   "execution_count": 56,
   "metadata": {
    "collapsed": false
   },
   "outputs": [],
   "source": [
    "with open('field_names.txt', 'r') as field_names_file:\n",
    "    field_data = field_names_file.read()\n",
    "    field_names = field_data.splitlines()"
   ]
  },
  {
   "cell_type": "markdown",
   "metadata": {},
   "source": [
    "### Comment on any steps you might take to evaluate or transform the dataset."
   ]
  },
  {
   "cell_type": "markdown",
   "metadata": {},
   "source": [
    "Let's make sure to look at the raw data first to get an idea of what we have. Features are computed from a digitized image of a fine needle aspirate (FNA) of a breast mass. They describe characteristics of the cell nuclei present in the image.\n",
    "\n",
    "Our data file is in .csv format, which means that if we opened it in a text editor, each column would be separated by commas. We will read in breast cancer data file and attach header file to dataframe using pandas.\n",
    "\n",
    "We will assume all 0 values are NaN. This is a big assumption, and not one I would normally make. (In our imaginary scenario, we have checked with original data collector(s) to ensure this is the case). How we handle NA/NaN will have a significant impact on our data analysis results, so we should take care to make sure that the original data collectors did indeed mean \"0\" to mean NA. Many pandas functions will do a great job of ignoring NA/NaN values, but if we need to deliberately ignore them, we can use breast_cancer.dropna() to drop rows with missing values. "
   ]
  },
  {
   "cell_type": "code",
   "execution_count": 57,
   "metadata": {
    "collapsed": false
   },
   "outputs": [],
   "source": [
    "breast_cancer = pd.read_csv('breast-cancer.csv', na_values=['0'], names = field_names)"
   ]
  },
  {
   "cell_type": "markdown",
   "metadata": {},
   "source": [
    "Let's take a look at our dataframe to get an idea of the data we are working with and to make sure it loaded correctly."
   ]
  },
  {
   "cell_type": "code",
   "execution_count": 58,
   "metadata": {
    "collapsed": false
   },
   "outputs": [
    {
     "data": {
      "text/html": [
       "<div>\n",
       "<table border=\"1\" class=\"dataframe\">\n",
       "  <thead>\n",
       "    <tr style=\"text-align: right;\">\n",
       "      <th></th>\n",
       "      <th>ID</th>\n",
       "      <th>diagnosis</th>\n",
       "      <th>radius_mean</th>\n",
       "      <th>radius_sd_error</th>\n",
       "      <th>radius_worst</th>\n",
       "      <th>texture_mean</th>\n",
       "      <th>texture_sd_error</th>\n",
       "      <th>texture_worst</th>\n",
       "      <th>perimeter_mean</th>\n",
       "      <th>perimeter_sd_error</th>\n",
       "      <th>...</th>\n",
       "      <th>concavity_worst</th>\n",
       "      <th>concave_points_mean</th>\n",
       "      <th>concave_points_sd_error</th>\n",
       "      <th>concave_points_worst</th>\n",
       "      <th>symmetry_mean</th>\n",
       "      <th>symmetry_sd_error</th>\n",
       "      <th>symmetry_worst</th>\n",
       "      <th>fractal_dimension_mean</th>\n",
       "      <th>fractal_dimension_sd_error</th>\n",
       "      <th>fractal_dimension_worst</th>\n",
       "    </tr>\n",
       "  </thead>\n",
       "  <tbody>\n",
       "    <tr>\n",
       "      <th>0</th>\n",
       "      <td>842302</td>\n",
       "      <td>M</td>\n",
       "      <td>17.99</td>\n",
       "      <td>10.38</td>\n",
       "      <td>122.80</td>\n",
       "      <td>1001.0</td>\n",
       "      <td>0.11840</td>\n",
       "      <td>0.27760</td>\n",
       "      <td>0.30010</td>\n",
       "      <td>0.14710</td>\n",
       "      <td>...</td>\n",
       "      <td>25.38</td>\n",
       "      <td>17.33</td>\n",
       "      <td>184.60</td>\n",
       "      <td>2019.0</td>\n",
       "      <td>0.1622</td>\n",
       "      <td>0.6656</td>\n",
       "      <td>0.7119</td>\n",
       "      <td>0.2654</td>\n",
       "      <td>0.4601</td>\n",
       "      <td>0.11890</td>\n",
       "    </tr>\n",
       "    <tr>\n",
       "      <th>1</th>\n",
       "      <td>842517</td>\n",
       "      <td>M</td>\n",
       "      <td>20.57</td>\n",
       "      <td>17.77</td>\n",
       "      <td>132.90</td>\n",
       "      <td>1326.0</td>\n",
       "      <td>0.08474</td>\n",
       "      <td>0.07864</td>\n",
       "      <td>0.08690</td>\n",
       "      <td>0.07017</td>\n",
       "      <td>...</td>\n",
       "      <td>24.99</td>\n",
       "      <td>23.41</td>\n",
       "      <td>158.80</td>\n",
       "      <td>1956.0</td>\n",
       "      <td>0.1238</td>\n",
       "      <td>0.1866</td>\n",
       "      <td>0.2416</td>\n",
       "      <td>0.1860</td>\n",
       "      <td>0.2750</td>\n",
       "      <td>0.08902</td>\n",
       "    </tr>\n",
       "    <tr>\n",
       "      <th>2</th>\n",
       "      <td>84300903</td>\n",
       "      <td>M</td>\n",
       "      <td>19.69</td>\n",
       "      <td>21.25</td>\n",
       "      <td>130.00</td>\n",
       "      <td>1203.0</td>\n",
       "      <td>0.10960</td>\n",
       "      <td>0.15990</td>\n",
       "      <td>0.19740</td>\n",
       "      <td>0.12790</td>\n",
       "      <td>...</td>\n",
       "      <td>23.57</td>\n",
       "      <td>25.53</td>\n",
       "      <td>152.50</td>\n",
       "      <td>1709.0</td>\n",
       "      <td>0.1444</td>\n",
       "      <td>0.4245</td>\n",
       "      <td>0.4504</td>\n",
       "      <td>0.2430</td>\n",
       "      <td>0.3613</td>\n",
       "      <td>0.08758</td>\n",
       "    </tr>\n",
       "    <tr>\n",
       "      <th>3</th>\n",
       "      <td>84348301</td>\n",
       "      <td>M</td>\n",
       "      <td>11.42</td>\n",
       "      <td>20.38</td>\n",
       "      <td>77.58</td>\n",
       "      <td>386.1</td>\n",
       "      <td>0.14250</td>\n",
       "      <td>0.28390</td>\n",
       "      <td>0.24140</td>\n",
       "      <td>0.10520</td>\n",
       "      <td>...</td>\n",
       "      <td>14.91</td>\n",
       "      <td>26.50</td>\n",
       "      <td>98.87</td>\n",
       "      <td>567.7</td>\n",
       "      <td>0.2098</td>\n",
       "      <td>0.8663</td>\n",
       "      <td>0.6869</td>\n",
       "      <td>0.2575</td>\n",
       "      <td>0.6638</td>\n",
       "      <td>0.17300</td>\n",
       "    </tr>\n",
       "    <tr>\n",
       "      <th>4</th>\n",
       "      <td>84358402</td>\n",
       "      <td>M</td>\n",
       "      <td>20.29</td>\n",
       "      <td>14.34</td>\n",
       "      <td>135.10</td>\n",
       "      <td>1297.0</td>\n",
       "      <td>0.10030</td>\n",
       "      <td>0.13280</td>\n",
       "      <td>0.19800</td>\n",
       "      <td>0.10430</td>\n",
       "      <td>...</td>\n",
       "      <td>22.54</td>\n",
       "      <td>16.67</td>\n",
       "      <td>152.20</td>\n",
       "      <td>1575.0</td>\n",
       "      <td>0.1374</td>\n",
       "      <td>0.2050</td>\n",
       "      <td>0.4000</td>\n",
       "      <td>0.1625</td>\n",
       "      <td>0.2364</td>\n",
       "      <td>0.07678</td>\n",
       "    </tr>\n",
       "    <tr>\n",
       "      <th>5</th>\n",
       "      <td>843786</td>\n",
       "      <td>M</td>\n",
       "      <td>12.45</td>\n",
       "      <td>15.70</td>\n",
       "      <td>82.57</td>\n",
       "      <td>477.1</td>\n",
       "      <td>0.12780</td>\n",
       "      <td>0.17000</td>\n",
       "      <td>0.15780</td>\n",
       "      <td>0.08089</td>\n",
       "      <td>...</td>\n",
       "      <td>15.47</td>\n",
       "      <td>23.75</td>\n",
       "      <td>103.40</td>\n",
       "      <td>741.6</td>\n",
       "      <td>0.1791</td>\n",
       "      <td>0.5249</td>\n",
       "      <td>0.5355</td>\n",
       "      <td>0.1741</td>\n",
       "      <td>0.3985</td>\n",
       "      <td>0.12440</td>\n",
       "    </tr>\n",
       "    <tr>\n",
       "      <th>6</th>\n",
       "      <td>844359</td>\n",
       "      <td>M</td>\n",
       "      <td>18.25</td>\n",
       "      <td>19.98</td>\n",
       "      <td>119.60</td>\n",
       "      <td>1040.0</td>\n",
       "      <td>0.09463</td>\n",
       "      <td>0.10900</td>\n",
       "      <td>0.11270</td>\n",
       "      <td>0.07400</td>\n",
       "      <td>...</td>\n",
       "      <td>22.88</td>\n",
       "      <td>27.66</td>\n",
       "      <td>153.20</td>\n",
       "      <td>1606.0</td>\n",
       "      <td>0.1442</td>\n",
       "      <td>0.2576</td>\n",
       "      <td>0.3784</td>\n",
       "      <td>0.1932</td>\n",
       "      <td>0.3063</td>\n",
       "      <td>0.08368</td>\n",
       "    </tr>\n",
       "    <tr>\n",
       "      <th>7</th>\n",
       "      <td>84458202</td>\n",
       "      <td>M</td>\n",
       "      <td>13.71</td>\n",
       "      <td>20.83</td>\n",
       "      <td>90.20</td>\n",
       "      <td>577.9</td>\n",
       "      <td>0.11890</td>\n",
       "      <td>0.16450</td>\n",
       "      <td>0.09366</td>\n",
       "      <td>0.05985</td>\n",
       "      <td>...</td>\n",
       "      <td>17.06</td>\n",
       "      <td>28.14</td>\n",
       "      <td>110.60</td>\n",
       "      <td>897.0</td>\n",
       "      <td>0.1654</td>\n",
       "      <td>0.3682</td>\n",
       "      <td>0.2678</td>\n",
       "      <td>0.1556</td>\n",
       "      <td>0.3196</td>\n",
       "      <td>0.11510</td>\n",
       "    </tr>\n",
       "    <tr>\n",
       "      <th>8</th>\n",
       "      <td>844981</td>\n",
       "      <td>M</td>\n",
       "      <td>13.00</td>\n",
       "      <td>21.82</td>\n",
       "      <td>87.50</td>\n",
       "      <td>519.8</td>\n",
       "      <td>0.12730</td>\n",
       "      <td>0.19320</td>\n",
       "      <td>0.18590</td>\n",
       "      <td>0.09353</td>\n",
       "      <td>...</td>\n",
       "      <td>15.49</td>\n",
       "      <td>30.73</td>\n",
       "      <td>106.20</td>\n",
       "      <td>739.3</td>\n",
       "      <td>0.1703</td>\n",
       "      <td>0.5401</td>\n",
       "      <td>0.5390</td>\n",
       "      <td>0.2060</td>\n",
       "      <td>0.4378</td>\n",
       "      <td>0.10720</td>\n",
       "    </tr>\n",
       "    <tr>\n",
       "      <th>9</th>\n",
       "      <td>84501001</td>\n",
       "      <td>M</td>\n",
       "      <td>12.46</td>\n",
       "      <td>24.04</td>\n",
       "      <td>83.97</td>\n",
       "      <td>475.9</td>\n",
       "      <td>0.11860</td>\n",
       "      <td>0.23960</td>\n",
       "      <td>0.22730</td>\n",
       "      <td>0.08543</td>\n",
       "      <td>...</td>\n",
       "      <td>15.09</td>\n",
       "      <td>40.68</td>\n",
       "      <td>97.65</td>\n",
       "      <td>711.4</td>\n",
       "      <td>0.1853</td>\n",
       "      <td>1.0580</td>\n",
       "      <td>1.1050</td>\n",
       "      <td>0.2210</td>\n",
       "      <td>0.4366</td>\n",
       "      <td>0.20750</td>\n",
       "    </tr>\n",
       "  </tbody>\n",
       "</table>\n",
       "<p>10 rows × 32 columns</p>\n",
       "</div>"
      ],
      "text/plain": [
       "         ID diagnosis  radius_mean  radius_sd_error  radius_worst  \\\n",
       "0    842302         M        17.99            10.38        122.80   \n",
       "1    842517         M        20.57            17.77        132.90   \n",
       "2  84300903         M        19.69            21.25        130.00   \n",
       "3  84348301         M        11.42            20.38         77.58   \n",
       "4  84358402         M        20.29            14.34        135.10   \n",
       "5    843786         M        12.45            15.70         82.57   \n",
       "6    844359         M        18.25            19.98        119.60   \n",
       "7  84458202         M        13.71            20.83         90.20   \n",
       "8    844981         M        13.00            21.82         87.50   \n",
       "9  84501001         M        12.46            24.04         83.97   \n",
       "\n",
       "   texture_mean  texture_sd_error  texture_worst  perimeter_mean  \\\n",
       "0        1001.0           0.11840        0.27760         0.30010   \n",
       "1        1326.0           0.08474        0.07864         0.08690   \n",
       "2        1203.0           0.10960        0.15990         0.19740   \n",
       "3         386.1           0.14250        0.28390         0.24140   \n",
       "4        1297.0           0.10030        0.13280         0.19800   \n",
       "5         477.1           0.12780        0.17000         0.15780   \n",
       "6        1040.0           0.09463        0.10900         0.11270   \n",
       "7         577.9           0.11890        0.16450         0.09366   \n",
       "8         519.8           0.12730        0.19320         0.18590   \n",
       "9         475.9           0.11860        0.23960         0.22730   \n",
       "\n",
       "   perimeter_sd_error           ...             concavity_worst  \\\n",
       "0             0.14710           ...                       25.38   \n",
       "1             0.07017           ...                       24.99   \n",
       "2             0.12790           ...                       23.57   \n",
       "3             0.10520           ...                       14.91   \n",
       "4             0.10430           ...                       22.54   \n",
       "5             0.08089           ...                       15.47   \n",
       "6             0.07400           ...                       22.88   \n",
       "7             0.05985           ...                       17.06   \n",
       "8             0.09353           ...                       15.49   \n",
       "9             0.08543           ...                       15.09   \n",
       "\n",
       "   concave_points_mean  concave_points_sd_error  concave_points_worst  \\\n",
       "0                17.33                   184.60                2019.0   \n",
       "1                23.41                   158.80                1956.0   \n",
       "2                25.53                   152.50                1709.0   \n",
       "3                26.50                    98.87                 567.7   \n",
       "4                16.67                   152.20                1575.0   \n",
       "5                23.75                   103.40                 741.6   \n",
       "6                27.66                   153.20                1606.0   \n",
       "7                28.14                   110.60                 897.0   \n",
       "8                30.73                   106.20                 739.3   \n",
       "9                40.68                    97.65                 711.4   \n",
       "\n",
       "   symmetry_mean  symmetry_sd_error  symmetry_worst  fractal_dimension_mean  \\\n",
       "0         0.1622             0.6656          0.7119                  0.2654   \n",
       "1         0.1238             0.1866          0.2416                  0.1860   \n",
       "2         0.1444             0.4245          0.4504                  0.2430   \n",
       "3         0.2098             0.8663          0.6869                  0.2575   \n",
       "4         0.1374             0.2050          0.4000                  0.1625   \n",
       "5         0.1791             0.5249          0.5355                  0.1741   \n",
       "6         0.1442             0.2576          0.3784                  0.1932   \n",
       "7         0.1654             0.3682          0.2678                  0.1556   \n",
       "8         0.1703             0.5401          0.5390                  0.2060   \n",
       "9         0.1853             1.0580          1.1050                  0.2210   \n",
       "\n",
       "   fractal_dimension_sd_error  fractal_dimension_worst  \n",
       "0                      0.4601                  0.11890  \n",
       "1                      0.2750                  0.08902  \n",
       "2                      0.3613                  0.08758  \n",
       "3                      0.6638                  0.17300  \n",
       "4                      0.2364                  0.07678  \n",
       "5                      0.3985                  0.12440  \n",
       "6                      0.3063                  0.08368  \n",
       "7                      0.3196                  0.11510  \n",
       "8                      0.4378                  0.10720  \n",
       "9                      0.4366                  0.20750  \n",
       "\n",
       "[10 rows x 32 columns]"
      ]
     },
     "execution_count": 58,
     "metadata": {},
     "output_type": "execute_result"
    }
   ],
   "source": [
    "breast_cancer.head(10)"
   ]
  },
  {
   "cell_type": "code",
   "execution_count": 59,
   "metadata": {
    "collapsed": false
   },
   "outputs": [
    {
     "data": {
      "text/html": [
       "<div>\n",
       "<table border=\"1\" class=\"dataframe\">\n",
       "  <thead>\n",
       "    <tr style=\"text-align: right;\">\n",
       "      <th></th>\n",
       "      <th>ID</th>\n",
       "      <th>diagnosis</th>\n",
       "      <th>radius_mean</th>\n",
       "      <th>radius_sd_error</th>\n",
       "      <th>radius_worst</th>\n",
       "      <th>texture_mean</th>\n",
       "      <th>texture_sd_error</th>\n",
       "      <th>texture_worst</th>\n",
       "      <th>perimeter_mean</th>\n",
       "      <th>perimeter_sd_error</th>\n",
       "      <th>...</th>\n",
       "      <th>concavity_worst</th>\n",
       "      <th>concave_points_mean</th>\n",
       "      <th>concave_points_sd_error</th>\n",
       "      <th>concave_points_worst</th>\n",
       "      <th>symmetry_mean</th>\n",
       "      <th>symmetry_sd_error</th>\n",
       "      <th>symmetry_worst</th>\n",
       "      <th>fractal_dimension_mean</th>\n",
       "      <th>fractal_dimension_sd_error</th>\n",
       "      <th>fractal_dimension_worst</th>\n",
       "    </tr>\n",
       "  </thead>\n",
       "  <tbody>\n",
       "    <tr>\n",
       "      <th>559</th>\n",
       "      <td>925291</td>\n",
       "      <td>B</td>\n",
       "      <td>11.51</td>\n",
       "      <td>23.93</td>\n",
       "      <td>74.52</td>\n",
       "      <td>403.5</td>\n",
       "      <td>0.09261</td>\n",
       "      <td>0.10210</td>\n",
       "      <td>0.11120</td>\n",
       "      <td>0.04105</td>\n",
       "      <td>...</td>\n",
       "      <td>12.480</td>\n",
       "      <td>37.16</td>\n",
       "      <td>82.28</td>\n",
       "      <td>474.2</td>\n",
       "      <td>0.12980</td>\n",
       "      <td>0.25170</td>\n",
       "      <td>0.3630</td>\n",
       "      <td>0.09653</td>\n",
       "      <td>0.2112</td>\n",
       "      <td>0.08732</td>\n",
       "    </tr>\n",
       "    <tr>\n",
       "      <th>560</th>\n",
       "      <td>925292</td>\n",
       "      <td>B</td>\n",
       "      <td>14.05</td>\n",
       "      <td>27.15</td>\n",
       "      <td>91.38</td>\n",
       "      <td>600.4</td>\n",
       "      <td>0.09929</td>\n",
       "      <td>0.11260</td>\n",
       "      <td>0.04462</td>\n",
       "      <td>0.04304</td>\n",
       "      <td>...</td>\n",
       "      <td>15.300</td>\n",
       "      <td>33.17</td>\n",
       "      <td>100.20</td>\n",
       "      <td>706.7</td>\n",
       "      <td>0.12410</td>\n",
       "      <td>0.22640</td>\n",
       "      <td>0.1326</td>\n",
       "      <td>0.10480</td>\n",
       "      <td>0.2250</td>\n",
       "      <td>0.08321</td>\n",
       "    </tr>\n",
       "    <tr>\n",
       "      <th>561</th>\n",
       "      <td>925311</td>\n",
       "      <td>B</td>\n",
       "      <td>11.20</td>\n",
       "      <td>29.37</td>\n",
       "      <td>70.67</td>\n",
       "      <td>386.0</td>\n",
       "      <td>0.07449</td>\n",
       "      <td>0.03558</td>\n",
       "      <td>NaN</td>\n",
       "      <td>NaN</td>\n",
       "      <td>...</td>\n",
       "      <td>11.920</td>\n",
       "      <td>38.30</td>\n",
       "      <td>75.19</td>\n",
       "      <td>439.6</td>\n",
       "      <td>0.09267</td>\n",
       "      <td>0.05494</td>\n",
       "      <td>NaN</td>\n",
       "      <td>NaN</td>\n",
       "      <td>0.1566</td>\n",
       "      <td>0.05905</td>\n",
       "    </tr>\n",
       "    <tr>\n",
       "      <th>562</th>\n",
       "      <td>925622</td>\n",
       "      <td>M</td>\n",
       "      <td>15.22</td>\n",
       "      <td>30.62</td>\n",
       "      <td>103.40</td>\n",
       "      <td>716.9</td>\n",
       "      <td>0.10480</td>\n",
       "      <td>0.20870</td>\n",
       "      <td>0.25500</td>\n",
       "      <td>0.09429</td>\n",
       "      <td>...</td>\n",
       "      <td>17.520</td>\n",
       "      <td>42.79</td>\n",
       "      <td>128.70</td>\n",
       "      <td>915.0</td>\n",
       "      <td>0.14170</td>\n",
       "      <td>0.79170</td>\n",
       "      <td>1.1700</td>\n",
       "      <td>0.23560</td>\n",
       "      <td>0.4089</td>\n",
       "      <td>0.14090</td>\n",
       "    </tr>\n",
       "    <tr>\n",
       "      <th>563</th>\n",
       "      <td>926125</td>\n",
       "      <td>M</td>\n",
       "      <td>20.92</td>\n",
       "      <td>25.09</td>\n",
       "      <td>143.00</td>\n",
       "      <td>1347.0</td>\n",
       "      <td>0.10990</td>\n",
       "      <td>0.22360</td>\n",
       "      <td>0.31740</td>\n",
       "      <td>0.14740</td>\n",
       "      <td>...</td>\n",
       "      <td>24.290</td>\n",
       "      <td>29.41</td>\n",
       "      <td>179.10</td>\n",
       "      <td>1819.0</td>\n",
       "      <td>0.14070</td>\n",
       "      <td>0.41860</td>\n",
       "      <td>0.6599</td>\n",
       "      <td>0.25420</td>\n",
       "      <td>0.2929</td>\n",
       "      <td>0.09873</td>\n",
       "    </tr>\n",
       "    <tr>\n",
       "      <th>564</th>\n",
       "      <td>926424</td>\n",
       "      <td>M</td>\n",
       "      <td>21.56</td>\n",
       "      <td>22.39</td>\n",
       "      <td>142.00</td>\n",
       "      <td>1479.0</td>\n",
       "      <td>0.11100</td>\n",
       "      <td>0.11590</td>\n",
       "      <td>0.24390</td>\n",
       "      <td>0.13890</td>\n",
       "      <td>...</td>\n",
       "      <td>25.450</td>\n",
       "      <td>26.40</td>\n",
       "      <td>166.10</td>\n",
       "      <td>2027.0</td>\n",
       "      <td>0.14100</td>\n",
       "      <td>0.21130</td>\n",
       "      <td>0.4107</td>\n",
       "      <td>0.22160</td>\n",
       "      <td>0.2060</td>\n",
       "      <td>0.07115</td>\n",
       "    </tr>\n",
       "    <tr>\n",
       "      <th>565</th>\n",
       "      <td>926682</td>\n",
       "      <td>M</td>\n",
       "      <td>20.13</td>\n",
       "      <td>28.25</td>\n",
       "      <td>131.20</td>\n",
       "      <td>1261.0</td>\n",
       "      <td>0.09780</td>\n",
       "      <td>0.10340</td>\n",
       "      <td>0.14400</td>\n",
       "      <td>0.09791</td>\n",
       "      <td>...</td>\n",
       "      <td>23.690</td>\n",
       "      <td>38.25</td>\n",
       "      <td>155.00</td>\n",
       "      <td>1731.0</td>\n",
       "      <td>0.11660</td>\n",
       "      <td>0.19220</td>\n",
       "      <td>0.3215</td>\n",
       "      <td>0.16280</td>\n",
       "      <td>0.2572</td>\n",
       "      <td>0.06637</td>\n",
       "    </tr>\n",
       "    <tr>\n",
       "      <th>566</th>\n",
       "      <td>926954</td>\n",
       "      <td>M</td>\n",
       "      <td>16.60</td>\n",
       "      <td>28.08</td>\n",
       "      <td>108.30</td>\n",
       "      <td>858.1</td>\n",
       "      <td>0.08455</td>\n",
       "      <td>0.10230</td>\n",
       "      <td>0.09251</td>\n",
       "      <td>0.05302</td>\n",
       "      <td>...</td>\n",
       "      <td>18.980</td>\n",
       "      <td>34.12</td>\n",
       "      <td>126.70</td>\n",
       "      <td>1124.0</td>\n",
       "      <td>0.11390</td>\n",
       "      <td>0.30940</td>\n",
       "      <td>0.3403</td>\n",
       "      <td>0.14180</td>\n",
       "      <td>0.2218</td>\n",
       "      <td>0.07820</td>\n",
       "    </tr>\n",
       "    <tr>\n",
       "      <th>567</th>\n",
       "      <td>927241</td>\n",
       "      <td>M</td>\n",
       "      <td>20.60</td>\n",
       "      <td>29.33</td>\n",
       "      <td>140.10</td>\n",
       "      <td>1265.0</td>\n",
       "      <td>0.11780</td>\n",
       "      <td>0.27700</td>\n",
       "      <td>0.35140</td>\n",
       "      <td>0.15200</td>\n",
       "      <td>...</td>\n",
       "      <td>25.740</td>\n",
       "      <td>39.42</td>\n",
       "      <td>184.60</td>\n",
       "      <td>1821.0</td>\n",
       "      <td>0.16500</td>\n",
       "      <td>0.86810</td>\n",
       "      <td>0.9387</td>\n",
       "      <td>0.26500</td>\n",
       "      <td>0.4087</td>\n",
       "      <td>0.12400</td>\n",
       "    </tr>\n",
       "    <tr>\n",
       "      <th>568</th>\n",
       "      <td>92751</td>\n",
       "      <td>B</td>\n",
       "      <td>7.76</td>\n",
       "      <td>24.54</td>\n",
       "      <td>47.92</td>\n",
       "      <td>181.0</td>\n",
       "      <td>0.05263</td>\n",
       "      <td>0.04362</td>\n",
       "      <td>NaN</td>\n",
       "      <td>NaN</td>\n",
       "      <td>...</td>\n",
       "      <td>9.456</td>\n",
       "      <td>30.37</td>\n",
       "      <td>59.16</td>\n",
       "      <td>268.6</td>\n",
       "      <td>0.08996</td>\n",
       "      <td>0.06444</td>\n",
       "      <td>NaN</td>\n",
       "      <td>NaN</td>\n",
       "      <td>0.2871</td>\n",
       "      <td>0.07039</td>\n",
       "    </tr>\n",
       "  </tbody>\n",
       "</table>\n",
       "<p>10 rows × 32 columns</p>\n",
       "</div>"
      ],
      "text/plain": [
       "         ID diagnosis  radius_mean  radius_sd_error  radius_worst  \\\n",
       "559  925291         B        11.51            23.93         74.52   \n",
       "560  925292         B        14.05            27.15         91.38   \n",
       "561  925311         B        11.20            29.37         70.67   \n",
       "562  925622         M        15.22            30.62        103.40   \n",
       "563  926125         M        20.92            25.09        143.00   \n",
       "564  926424         M        21.56            22.39        142.00   \n",
       "565  926682         M        20.13            28.25        131.20   \n",
       "566  926954         M        16.60            28.08        108.30   \n",
       "567  927241         M        20.60            29.33        140.10   \n",
       "568   92751         B         7.76            24.54         47.92   \n",
       "\n",
       "     texture_mean  texture_sd_error  texture_worst  perimeter_mean  \\\n",
       "559         403.5           0.09261        0.10210         0.11120   \n",
       "560         600.4           0.09929        0.11260         0.04462   \n",
       "561         386.0           0.07449        0.03558             NaN   \n",
       "562         716.9           0.10480        0.20870         0.25500   \n",
       "563        1347.0           0.10990        0.22360         0.31740   \n",
       "564        1479.0           0.11100        0.11590         0.24390   \n",
       "565        1261.0           0.09780        0.10340         0.14400   \n",
       "566         858.1           0.08455        0.10230         0.09251   \n",
       "567        1265.0           0.11780        0.27700         0.35140   \n",
       "568         181.0           0.05263        0.04362             NaN   \n",
       "\n",
       "     perimeter_sd_error           ...             concavity_worst  \\\n",
       "559             0.04105           ...                      12.480   \n",
       "560             0.04304           ...                      15.300   \n",
       "561                 NaN           ...                      11.920   \n",
       "562             0.09429           ...                      17.520   \n",
       "563             0.14740           ...                      24.290   \n",
       "564             0.13890           ...                      25.450   \n",
       "565             0.09791           ...                      23.690   \n",
       "566             0.05302           ...                      18.980   \n",
       "567             0.15200           ...                      25.740   \n",
       "568                 NaN           ...                       9.456   \n",
       "\n",
       "     concave_points_mean  concave_points_sd_error  concave_points_worst  \\\n",
       "559                37.16                    82.28                 474.2   \n",
       "560                33.17                   100.20                 706.7   \n",
       "561                38.30                    75.19                 439.6   \n",
       "562                42.79                   128.70                 915.0   \n",
       "563                29.41                   179.10                1819.0   \n",
       "564                26.40                   166.10                2027.0   \n",
       "565                38.25                   155.00                1731.0   \n",
       "566                34.12                   126.70                1124.0   \n",
       "567                39.42                   184.60                1821.0   \n",
       "568                30.37                    59.16                 268.6   \n",
       "\n",
       "     symmetry_mean  symmetry_sd_error  symmetry_worst  fractal_dimension_mean  \\\n",
       "559        0.12980            0.25170          0.3630                 0.09653   \n",
       "560        0.12410            0.22640          0.1326                 0.10480   \n",
       "561        0.09267            0.05494             NaN                     NaN   \n",
       "562        0.14170            0.79170          1.1700                 0.23560   \n",
       "563        0.14070            0.41860          0.6599                 0.25420   \n",
       "564        0.14100            0.21130          0.4107                 0.22160   \n",
       "565        0.11660            0.19220          0.3215                 0.16280   \n",
       "566        0.11390            0.30940          0.3403                 0.14180   \n",
       "567        0.16500            0.86810          0.9387                 0.26500   \n",
       "568        0.08996            0.06444             NaN                     NaN   \n",
       "\n",
       "     fractal_dimension_sd_error  fractal_dimension_worst  \n",
       "559                      0.2112                  0.08732  \n",
       "560                      0.2250                  0.08321  \n",
       "561                      0.1566                  0.05905  \n",
       "562                      0.4089                  0.14090  \n",
       "563                      0.2929                  0.09873  \n",
       "564                      0.2060                  0.07115  \n",
       "565                      0.2572                  0.06637  \n",
       "566                      0.2218                  0.07820  \n",
       "567                      0.4087                  0.12400  \n",
       "568                      0.2871                  0.07039  \n",
       "\n",
       "[10 rows x 32 columns]"
      ]
     },
     "execution_count": 59,
     "metadata": {},
     "output_type": "execute_result"
    }
   ],
   "source": [
    "breast_cancer.tail(10)"
   ]
  },
  {
   "cell_type": "code",
   "execution_count": 60,
   "metadata": {
    "collapsed": false
   },
   "outputs": [
    {
     "data": {
      "text/plain": [
       "array(['ID', 'diagnosis', 'radius_mean', 'radius_sd_error', 'radius_worst',\n",
       "       'texture_mean', 'texture_sd_error', 'texture_worst',\n",
       "       'perimeter_mean', 'perimeter_sd_error', 'perimeter_worst',\n",
       "       'area_mean', 'area_sd_error', 'area_worst', 'smoothness_mean',\n",
       "       'smoothness_sd_error', 'smoothness_worst', 'compactness_mean',\n",
       "       'compactness_sd_error', 'compactness_worst', 'concavity_mean',\n",
       "       'concavity_sd_error', 'concavity_worst', 'concave_points_mean',\n",
       "       'concave_points_sd_error', 'concave_points_worst', 'symmetry_mean',\n",
       "       'symmetry_sd_error', 'symmetry_worst', 'fractal_dimension_mean',\n",
       "       'fractal_dimension_sd_error', 'fractal_dimension_worst'], dtype=object)"
      ]
     },
     "execution_count": 60,
     "metadata": {},
     "output_type": "execute_result"
    }
   ],
   "source": [
    "breast_cancer.columns.values"
   ]
  },
  {
   "cell_type": "code",
   "execution_count": 61,
   "metadata": {
    "collapsed": false
   },
   "outputs": [
    {
     "data": {
      "text/plain": [
       "ID                              int64\n",
       "diagnosis                      object\n",
       "radius_mean                   float64\n",
       "radius_sd_error               float64\n",
       "radius_worst                  float64\n",
       "texture_mean                  float64\n",
       "texture_sd_error              float64\n",
       "texture_worst                 float64\n",
       "perimeter_mean                float64\n",
       "perimeter_sd_error            float64\n",
       "perimeter_worst               float64\n",
       "area_mean                     float64\n",
       "area_sd_error                 float64\n",
       "area_worst                    float64\n",
       "smoothness_mean               float64\n",
       "smoothness_sd_error           float64\n",
       "smoothness_worst              float64\n",
       "compactness_mean              float64\n",
       "compactness_sd_error          float64\n",
       "compactness_worst             float64\n",
       "concavity_mean                float64\n",
       "concavity_sd_error            float64\n",
       "concavity_worst               float64\n",
       "concave_points_mean           float64\n",
       "concave_points_sd_error       float64\n",
       "concave_points_worst          float64\n",
       "symmetry_mean                 float64\n",
       "symmetry_sd_error             float64\n",
       "symmetry_worst                float64\n",
       "fractal_dimension_mean        float64\n",
       "fractal_dimension_sd_error    float64\n",
       "fractal_dimension_worst       float64\n",
       "dtype: object"
      ]
     },
     "execution_count": 61,
     "metadata": {},
     "output_type": "execute_result"
    }
   ],
   "source": [
    "breast_cancer.dtypes"
   ]
  },
  {
   "cell_type": "code",
   "execution_count": 62,
   "metadata": {
    "collapsed": false
   },
   "outputs": [
    {
     "data": {
      "text/plain": [
       "(569, 32)"
      ]
     },
     "execution_count": 62,
     "metadata": {},
     "output_type": "execute_result"
    }
   ],
   "source": [
    "breast_cancer.shape"
   ]
  },
  {
   "cell_type": "markdown",
   "metadata": {},
   "source": [
    "### Compute the mean and median smoothness and compactness for benign and malignant tumors - do they differ? Explain how you would identify this."
   ]
  },
  {
   "cell_type": "code",
   "execution_count": 65,
   "metadata": {
    "collapsed": true
   },
   "outputs": [],
   "source": [
    "sorted_diagnosis = breast_cancer.groupby('diagnosis')"
   ]
  },
  {
   "cell_type": "code",
   "execution_count": 66,
   "metadata": {
    "collapsed": false
   },
   "outputs": [],
   "source": [
    "sorted_smoothness = sorted_diagnosis['smoothness_mean']"
   ]
  },
  {
   "cell_type": "markdown",
   "metadata": {},
   "source": [
    "Let's tak e "
   ]
  },
  {
   "cell_type": "code",
   "execution_count": 67,
   "metadata": {
    "collapsed": false
   },
   "outputs": [
    {
     "data": {
      "text/plain": [
       "diagnosis\n",
       "B    2.000321\n",
       "M    4.323929\n",
       "Name: smoothness_mean, dtype: float64"
      ]
     },
     "execution_count": 67,
     "metadata": {},
     "output_type": "execute_result"
    }
   ],
   "source": [
    "sorted_smoothness.mean()"
   ]
  },
  {
   "cell_type": "code",
   "execution_count": 68,
   "metadata": {
    "collapsed": false
   },
   "outputs": [
    {
     "data": {
      "text/plain": [
       "diagnosis\n",
       "B    1.8510\n",
       "M    3.6795\n",
       "Name: smoothness_mean, dtype: float64"
      ]
     },
     "execution_count": 68,
     "metadata": {},
     "output_type": "execute_result"
    }
   ],
   "source": [
    "sorted_smoothness.median()"
   ]
  },
  {
   "cell_type": "code",
   "execution_count": 69,
   "metadata": {
    "collapsed": true
   },
   "outputs": [],
   "source": [
    "m_smoothness = breast_cancer[breast_cancer['diagnosis'] == 'M']['smoothness_mean']\n",
    "b_smoothness = breast_cancer[breast_cancer['diagnosis'] == 'B']['smoothness_mean']"
   ]
  },
  {
   "cell_type": "markdown",
   "metadata": {},
   "source": [
    "Let's take a look at the frequency distributions for the data to get an idea of the data we are working with."
   ]
  },
  {
   "cell_type": "code",
   "execution_count": 72,
   "metadata": {
    "collapsed": false
   },
   "outputs": [
    {
     "data": {
      "text/plain": [
       "<matplotlib.axes._subplots.AxesSubplot at 0x11d07e3d0>"
      ]
     },
     "execution_count": 72,
     "metadata": {},
     "output_type": "execute_result"
    },
    {
     "data": {
      "image/png": "[encoded data removed]",
      "text/plain": [
       "<matplotlib.figure.Figure at 0x11d10b2d0>"
      ]
     },
     "metadata": {},
     "output_type": "display_data"
    }
   ],
   "source": [
    "m_smoothness.hist(bins=50)\n",
    "b_smoothness.hist(bins=50)"
   ]
  },
  {
   "cell_type": "markdown",
   "metadata": {},
   "source": [
    "Let's draw a quick boxplot to see if we can eyeball any difference in the means. They appear to be quite different, but we will check this with a statistical test."
   ]
  },
  {
   "cell_type": "code",
   "execution_count": 73,
   "metadata": {
    "collapsed": false
   },
   "outputs": [
    {
     "data": {
      "text/plain": [
       "<matplotlib.axes._subplots.AxesSubplot at 0x11d25c690>"
      ]
     },
     "execution_count": 73,
     "metadata": {},
     "output_type": "execute_result"
    },
    {
     "data": {
      "image/png": "[encoded data removed]",
      "text/plain": [
       "<matplotlib.figure.Figure at 0x11d115250>"
      ]
     },
     "metadata": {},
     "output_type": "display_data"
    }
   ],
   "source": [
    "breast_cancer.boxplot(column='smoothness_mean', by = 'diagnosis')"
   ]
  },
  {
   "cell_type": "markdown",
   "metadata": {},
   "source": [
    "We are comparing the means of two populations. The data are not paired; that is, they weren't able to test the same individual's malignant and benign tumor because of the nature of human data. So we will do an unpaired t-test, being careful to make sure our assumptions are met. Calculate the T-test for the means of two independent samples. This is a two-sided test for the null hypothesis that 2 independent samples have identical average values. This test assumes that the populations have identical variances by default."
   ]
  },
  {
   "cell_type": "markdown",
   "metadata": {},
   "source": [
    "Test for equal variances. ttest_ind will underestimate p for unequal variances."
   ]
  },
  {
   "cell_type": "code",
   "execution_count": 74,
   "metadata": {
    "collapsed": false
   },
   "outputs": [
    {
     "data": {
      "text/plain": [
       "BartlettResult(statistic=375.73781008828786, pvalue=1.0541940886194725e-83)"
      ]
     },
     "execution_count": 74,
     "metadata": {},
     "output_type": "execute_result"
    }
   ],
   "source": [
    "stats.bartlett(m_smoothness, b_smoothness)"
   ]
  },
  {
   "cell_type": "markdown",
   "metadata": {},
   "source": [
    "The p-value result for the Bartlett's Test is larger than the threshold of .05, so we cannot reject the null hypothesis that the variances are equal. That is, our assumptions hold. So, we can perform a standard independent 2 sample test that assumes equal population variances. If they were unqual, we could use Welch’s t-test, which does not assume equal population variance."
   ]
  },
  {
   "cell_type": "code",
   "execution_count": 75,
   "metadata": {
    "collapsed": false
   },
   "outputs": [
    {
     "data": {
      "text/plain": [
       "Ttest_indResult(statistic=15.934158019257902, pvalue=1.6519051758498057e-47)"
      ]
     },
     "execution_count": 75,
     "metadata": {},
     "output_type": "execute_result"
    }
   ],
   "source": [
    "stats.ttest_ind(m_smoothness, b_smoothness, equal_var = True) "
   ]
  },
  {
   "cell_type": "markdown",
   "metadata": {},
   "source": [
    "The p-value is smaller than the threshold of .05, so we reject the null hypothesis of equal averages. Malignant tumors have a statistically significant larger mean than benign tumors t(569) = 15.9, p < .05."
   ]
  },
  {
   "cell_type": "markdown",
   "metadata": {},
   "source": [
    "2 sample t-test assumes normally distributed data. We can relax these assumptions and use the Mann-Whitney-Wilcoxon RankSum test.  With this p-value, we are highly confident that the distributions significantly differ, and can claim that the treatments had a significant impact on the measured value."
   ]
  },
  {
   "cell_type": "code",
   "execution_count": 76,
   "metadata": {
    "collapsed": false
   },
   "outputs": [
    {
     "data": {
      "text/plain": [
       "RanksumsResult(statistic=15.024425420050784, pvalue=5.0799913966219325e-51)"
      ]
     },
     "execution_count": 76,
     "metadata": {},
     "output_type": "execute_result"
    }
   ],
   "source": [
    "stats.ranksums(m_smoothness, b_smoothness)"
   ]
  },
  {
   "cell_type": "markdown",
   "metadata": {},
   "source": [
    "The p-value is smaller than the threshold of .05, so we reject the null hypothesis of equal averages. Malignant tumors have a statistically significant larger mean than benign tumors Ranksums(569) = 15.02, p < .05."
   ]
  },
  {
   "cell_type": "code",
   "execution_count": 77,
   "metadata": {
    "collapsed": true
   },
   "outputs": [],
   "source": [
    "sorted_compactness = sorted_diagnosis['compactness_mean']"
   ]
  },
  {
   "cell_type": "code",
   "execution_count": 78,
   "metadata": {
    "collapsed": false
   },
   "outputs": [
    {
     "data": {
      "text/plain": [
       "diagnosis\n",
       "B    0.021438\n",
       "M    0.032281\n",
       "Name: compactness_mean, dtype: float64"
      ]
     },
     "execution_count": 78,
     "metadata": {},
     "output_type": "execute_result"
    }
   ],
   "source": [
    "sorted_compactness.mean()"
   ]
  },
  {
   "cell_type": "code",
   "execution_count": 79,
   "metadata": {
    "collapsed": false
   },
   "outputs": [
    {
     "data": {
      "text/plain": [
       "diagnosis\n",
       "B    0.01631\n",
       "M    0.02859\n",
       "Name: compactness_mean, dtype: float64"
      ]
     },
     "execution_count": 79,
     "metadata": {},
     "output_type": "execute_result"
    }
   ],
   "source": [
    "sorted_compactness.median()"
   ]
  },
  {
   "cell_type": "code",
   "execution_count": 80,
   "metadata": {
    "collapsed": true
   },
   "outputs": [],
   "source": [
    "m_compactness = breast_cancer[breast_cancer['diagnosis'] == 'M']['compactness_mean']\n",
    "b_compactness = breast_cancer[breast_cancer['diagnosis'] == 'B']['compactness_mean']"
   ]
  },
  {
   "cell_type": "markdown",
   "metadata": {},
   "source": [
    "Let's take a look at the frequency distributions of the data that we are working with."
   ]
  },
  {
   "cell_type": "code",
   "execution_count": 81,
   "metadata": {
    "collapsed": false
   },
   "outputs": [
    {
     "data": {
      "text/plain": [
       "<matplotlib.axes._subplots.AxesSubplot at 0x11d076590>"
      ]
     },
     "execution_count": 81,
     "metadata": {},
     "output_type": "execute_result"
    },
    {
     "data": {
      "image/png": "[encoded data removed]",
      "text/plain": [
       "<matplotlib.figure.Figure at 0x11d74ee90>"
      ]
     },
     "metadata": {},
     "output_type": "display_data"
    }
   ],
   "source": [
    "m_compactness.hist(bins=50)\n",
    "b_compactness.hist(bins=50)"
   ]
  },
  {
   "cell_type": "markdown",
   "metadata": {},
   "source": [
    "Let's draw a quick boxplot to see if we can eyeball any difference in the means. They appear to be quite different, but we will check this with a statistical test."
   ]
  },
  {
   "cell_type": "code",
   "execution_count": 82,
   "metadata": {
    "collapsed": false
   },
   "outputs": [
    {
     "data": {
      "text/plain": [
       "<matplotlib.axes._subplots.AxesSubplot at 0x11d136c90>"
      ]
     },
     "execution_count": 82,
     "metadata": {},
     "output_type": "execute_result"
    },
    {
     "data": {
      "image/png": "[encoded data removed]",
      "text/plain": [
       "<matplotlib.figure.Figure at 0x11d753f90>"
      ]
     },
     "metadata": {},
     "output_type": "display_data"
    }
   ],
   "source": [
    "breast_cancer.boxplot(column='compactness_mean', by = 'diagnosis')"
   ]
  },
  {
   "cell_type": "markdown",
   "metadata": {},
   "source": [
    "We are comparing the means of two populations. The data are not paired; that is, they weren't able to test the same individual's malignant and benign tumor because of the nature of human data. So we will do an unpaired t-test, being careful to make sure our assumptions are met. Calculate the T-test for the means of two independent samples. This is a two-sided test for the null hypothesis that 2 independent samples have identical average values. This test assumes that the populations have identical variances by default."
   ]
  },
  {
   "cell_type": "markdown",
   "metadata": {},
   "source": [
    "Test for equal variances. ttest_ind will underestimate p for unequal variances."
   ]
  },
  {
   "cell_type": "code",
   "execution_count": 26,
   "metadata": {
    "collapsed": false
   },
   "outputs": [
    {
     "data": {
      "text/plain": [
       "BartlettResult(statistic=3.7065117176125604, pvalue=0.054200552693081862)"
      ]
     },
     "execution_count": 26,
     "metadata": {},
     "output_type": "execute_result"
    }
   ],
   "source": [
    "stats.bartlett(m_compactness, b_compactness)"
   ]
  },
  {
   "cell_type": "markdown",
   "metadata": {},
   "source": [
    "The p-value is larger than the threshold of .05, so we cannot reject the null hypothesis that the variances are equal. So, we can perform a standard independent 2 sample test that assumes equal population variances. If they were unqual, we could use Welch’s t-test, which does not assume equal population variance."
   ]
  },
  {
   "cell_type": "code",
   "execution_count": 27,
   "metadata": {
    "collapsed": false
   },
   "outputs": [
    {
     "data": {
      "text/plain": [
       "Ttest_indResult(statistic=7.2970774374485305, pvalue=9.9759946540745867e-13)"
      ]
     },
     "execution_count": 27,
     "metadata": {},
     "output_type": "execute_result"
    }
   ],
   "source": [
    "stats.ttest_ind(m_compactness, b_compactness, equal_var = True) "
   ]
  },
  {
   "cell_type": "markdown",
   "metadata": {},
   "source": [
    "The p-value is smaller than the threshold of .05, so we reject the null hypothesis of equal averages. Malignant tumors have a statistically significant higher compactness mean than benign tumors t(569) = 7.29, p < .05."
   ]
  },
  {
   "cell_type": "markdown",
   "metadata": {},
   "source": [
    "2 sample t-test assumes normally distributed data. We can relax these assumptions and use the Mann-Whitney-Wilcoxon RankSum test.  With this p-value, we are highly confident that the distributions significantly differ, and can claim that the treatments had a significant impact on the measured value."
   ]
  },
  {
   "cell_type": "code",
   "execution_count": 83,
   "metadata": {
    "collapsed": false
   },
   "outputs": [
    {
     "data": {
      "text/plain": [
       "RanksumsResult(statistic=9.0723015362447281, pvalue=1.1652909655953908e-19)"
      ]
     },
     "execution_count": 83,
     "metadata": {},
     "output_type": "execute_result"
    }
   ],
   "source": [
    "stats.ranksums(m_compactness, b_compactness)"
   ]
  },
  {
   "cell_type": "markdown",
   "metadata": {},
   "source": [
    "The p-value is smaller than the threshold of .05, so we reject the null hypothesis of equal averages. Malignant tumors have a statistically significant higher compactness mean than benign tumors ranksums(569) = 9.07, p < .05."
   ]
  },
  {
   "cell_type": "markdown",
   "metadata": {},
   "source": [
    "### Write a function to generate bootstrap samples of the data."
   ]
  },
  {
   "cell_type": "markdown",
   "metadata": {},
   "source": [
    "Oftentimes in research, it’s really difficult to get enough replicate runs for computing reliable confidence intervals with SEM. We are using human disease data here, so that holds especially true for both statistical and ethical reasons. In this case, bootstrapping the confidence intervals is a much more accurate method of determining the 95% confidence interval. "
   ]
  },
  {
   "cell_type": "markdown",
   "metadata": {},
   "source": [
    "Let's say we want to plot the 95% confidence interval for the mean of our data samples, using the bootstrap. Essentially, we will draw many, many samples with replacement from the data we have, estimate the mean from each sample, then rank order the means to estimate the 2.5 and 97.5 percentile values for 95% confidence interval. Unlike using normal assumptions to calculate 95% CI, the results generated by the bootstrap are robust even if the underlying data are very far from normal. This is super useful for our flavor of data (human disease data), where we might not be able to get the replicates we want and the data may be far from normal.\n",
    "\n",
    "We can boostrap confidence interval for any valid statistical function, not just the mean. For example, to find the 95% CI for the standard deviation, we only need to change np.mean to np.std in the arguments. We may also want to explore permutation-resampling, another form of simulation-based statistical calculation often used to evaluate the p-value for the difference between two groups (null hypothesis is that the groups are invariant under permutation). "
   ]
  },
  {
   "cell_type": "code",
   "execution_count": 85,
   "metadata": {
    "collapsed": false
   },
   "outputs": [],
   "source": [
    "def bootstrap(data, num_samples, statistic, alpha):\n",
    "    # Returns bootstrap estimate of 100.0*(1-alpha) CI for statistic.\n",
    "    n = len(data)\n",
    "    idx = npr.randint(0, n, (num_samples, n))\n",
    "    samples = data[idx]\n",
    "    stat = np.sort(statistic(samples, 1))\n",
    "    return (stat[int((alpha/2.0)*num_samples)],\n",
    "            stat[int((1-alpha/2.0)*num_samples)])"
   ]
  },
  {
   "cell_type": "markdown",
   "metadata": {},
   "source": [
    "Let's try out our bootstrap function on some data we made up that is bimodal and definitely not normal"
   ]
  },
  {
   "cell_type": "code",
   "execution_count": 86,
   "metadata": {
    "collapsed": false
   },
   "outputs": [
    {
     "data": {
      "image/png": "[encoded data removed]",
      "text/plain": [
       "<matplotlib.figure.Figure at 0x11d753590>"
      ]
     },
     "metadata": {},
     "output_type": "display_data"
    }
   ],
   "source": [
    "# generate some bimodal, not normal data to test our function\n",
    "x = np.concatenate([npr.normal(3, 1, 100), npr.normal(6, 2, 200)])\n",
    "# find mean 95% CI and 100,000 bootstrap samples\n",
    "low, high = bootstrap(x, 100000, np.mean, 0.05)\n",
    "\n",
    "# make plots\n",
    "pl.figure(figsize=(8,4))\n",
    "pl.subplot(121)\n",
    "pl.hist(x, 50, histtype='step')\n",
    "pl.title('Histogram of data')\n",
    "pl.subplot(122)\n",
    "pl.plot([-0.03,0.03], [np.mean(x), np.mean(x)], 'r', linewidth=2)\n",
    "pl.scatter(0.1*(npr.random(len(x))-0.5), x)\n",
    "pl.plot([0.19,0.21], [low, low], 'r', linewidth=2)\n",
    "pl.plot([0.19,0.21], [high, high], 'r', linewidth=2)\n",
    "pl.plot([0.2,0.2], [low, high], 'r', linewidth=2)\n",
    "pl.xlim([-0.2, 0.3])\n",
    "pl.title('Bootstrap 95% CI for mean')\n",
    "pl.savefig('bootstrap.png')"
   ]
  },
  {
   "cell_type": "markdown",
   "metadata": {},
   "source": [
    "## Exploratory Analysis"
   ]
  },
  {
   "cell_type": "markdown",
   "metadata": {},
   "source": [
    "Identify 2-3 variables that are predictive of a malignant tumor. Display the relationship visually and write 1-2 sentences explaining the relationship."
   ]
  },
  {
   "cell_type": "markdown",
   "metadata": {},
   "source": [
    "Let's take a look at the data. Our response variable (malignant or benign) is a categorical response variable. We have continuous variables as our predictive variables (all of the variables except diagnosis and ID). \n",
    "\n",
    "So, we are going to use Logistic Regression, since we learned that this is a statistical technique capable of predicting a binary outcome, like we have here."
   ]
  },
  {
   "cell_type": "code",
   "execution_count": 91,
   "metadata": {
    "collapsed": false
   },
   "outputs": [
    {
     "name": "stderr",
     "output_type": "stream",
     "text": [
      "/Users/nicholebennett/anaconda/lib/python2.7/site-packages/numpy/lib/function_base.py:3834: RuntimeWarning: Invalid value encountered in percentile\n",
      "  RuntimeWarning)\n"
     ]
    },
    {
     "data": {
      "text/html": [
       "<div>\n",
       "<table border=\"1\" class=\"dataframe\">\n",
       "  <thead>\n",
       "    <tr style=\"text-align: right;\">\n",
       "      <th></th>\n",
       "      <th>ID</th>\n",
       "      <th>radius_mean</th>\n",
       "      <th>radius_sd_error</th>\n",
       "      <th>radius_worst</th>\n",
       "      <th>texture_mean</th>\n",
       "      <th>texture_sd_error</th>\n",
       "      <th>texture_worst</th>\n",
       "      <th>perimeter_mean</th>\n",
       "      <th>perimeter_sd_error</th>\n",
       "      <th>perimeter_worst</th>\n",
       "      <th>...</th>\n",
       "      <th>concavity_worst</th>\n",
       "      <th>concave_points_mean</th>\n",
       "      <th>concave_points_sd_error</th>\n",
       "      <th>concave_points_worst</th>\n",
       "      <th>symmetry_mean</th>\n",
       "      <th>symmetry_sd_error</th>\n",
       "      <th>symmetry_worst</th>\n",
       "      <th>fractal_dimension_mean</th>\n",
       "      <th>fractal_dimension_sd_error</th>\n",
       "      <th>fractal_dimension_worst</th>\n",
       "    </tr>\n",
       "  </thead>\n",
       "  <tbody>\n",
       "    <tr>\n",
       "      <th>count</th>\n",
       "      <td>5.690000e+02</td>\n",
       "      <td>569.000000</td>\n",
       "      <td>569.000000</td>\n",
       "      <td>569.000000</td>\n",
       "      <td>569.000000</td>\n",
       "      <td>569.000000</td>\n",
       "      <td>569.000000</td>\n",
       "      <td>556.000000</td>\n",
       "      <td>556.000000</td>\n",
       "      <td>569.000000</td>\n",
       "      <td>...</td>\n",
       "      <td>569.000000</td>\n",
       "      <td>569.000000</td>\n",
       "      <td>569.000000</td>\n",
       "      <td>569.000000</td>\n",
       "      <td>569.000000</td>\n",
       "      <td>569.000000</td>\n",
       "      <td>556.000000</td>\n",
       "      <td>556.000000</td>\n",
       "      <td>569.000000</td>\n",
       "      <td>569.000000</td>\n",
       "    </tr>\n",
       "    <tr>\n",
       "      <th>mean</th>\n",
       "      <td>3.037183e+07</td>\n",
       "      <td>14.127292</td>\n",
       "      <td>19.289649</td>\n",
       "      <td>91.969033</td>\n",
       "      <td>654.889104</td>\n",
       "      <td>0.096360</td>\n",
       "      <td>0.104341</td>\n",
       "      <td>0.090876</td>\n",
       "      <td>0.050063</td>\n",
       "      <td>0.181162</td>\n",
       "      <td>...</td>\n",
       "      <td>16.269190</td>\n",
       "      <td>25.677223</td>\n",
       "      <td>107.261213</td>\n",
       "      <td>880.583128</td>\n",
       "      <td>0.132369</td>\n",
       "      <td>0.254265</td>\n",
       "      <td>0.278553</td>\n",
       "      <td>0.117286</td>\n",
       "      <td>0.290076</td>\n",
       "      <td>0.083946</td>\n",
       "    </tr>\n",
       "    <tr>\n",
       "      <th>std</th>\n",
       "      <td>1.250206e+08</td>\n",
       "      <td>3.524049</td>\n",
       "      <td>4.301036</td>\n",
       "      <td>24.298981</td>\n",
       "      <td>351.914129</td>\n",
       "      <td>0.014064</td>\n",
       "      <td>0.052813</td>\n",
       "      <td>0.079468</td>\n",
       "      <td>0.038517</td>\n",
       "      <td>0.027414</td>\n",
       "      <td>...</td>\n",
       "      <td>4.833242</td>\n",
       "      <td>6.146258</td>\n",
       "      <td>33.602542</td>\n",
       "      <td>569.356993</td>\n",
       "      <td>0.022832</td>\n",
       "      <td>0.157336</td>\n",
       "      <td>0.206803</td>\n",
       "      <td>0.064087</td>\n",
       "      <td>0.061867</td>\n",
       "      <td>0.018061</td>\n",
       "    </tr>\n",
       "    <tr>\n",
       "      <th>min</th>\n",
       "      <td>8.670000e+03</td>\n",
       "      <td>6.981000</td>\n",
       "      <td>9.710000</td>\n",
       "      <td>43.790000</td>\n",
       "      <td>143.500000</td>\n",
       "      <td>0.052630</td>\n",
       "      <td>0.019380</td>\n",
       "      <td>0.000692</td>\n",
       "      <td>0.001852</td>\n",
       "      <td>0.106000</td>\n",
       "      <td>...</td>\n",
       "      <td>7.930000</td>\n",
       "      <td>12.020000</td>\n",
       "      <td>50.410000</td>\n",
       "      <td>185.200000</td>\n",
       "      <td>0.071170</td>\n",
       "      <td>0.027290</td>\n",
       "      <td>0.001845</td>\n",
       "      <td>0.008772</td>\n",
       "      <td>0.156500</td>\n",
       "      <td>0.055040</td>\n",
       "    </tr>\n",
       "    <tr>\n",
       "      <th>25%</th>\n",
       "      <td>8.692180e+05</td>\n",
       "      <td>11.700000</td>\n",
       "      <td>16.170000</td>\n",
       "      <td>75.170000</td>\n",
       "      <td>420.300000</td>\n",
       "      <td>0.086370</td>\n",
       "      <td>0.064920</td>\n",
       "      <td>NaN</td>\n",
       "      <td>NaN</td>\n",
       "      <td>0.161900</td>\n",
       "      <td>...</td>\n",
       "      <td>13.010000</td>\n",
       "      <td>21.080000</td>\n",
       "      <td>84.110000</td>\n",
       "      <td>515.300000</td>\n",
       "      <td>0.116600</td>\n",
       "      <td>0.147200</td>\n",
       "      <td>NaN</td>\n",
       "      <td>NaN</td>\n",
       "      <td>0.250400</td>\n",
       "      <td>0.071460</td>\n",
       "    </tr>\n",
       "    <tr>\n",
       "      <th>50%</th>\n",
       "      <td>9.060240e+05</td>\n",
       "      <td>13.370000</td>\n",
       "      <td>18.840000</td>\n",
       "      <td>86.240000</td>\n",
       "      <td>551.100000</td>\n",
       "      <td>0.095870</td>\n",
       "      <td>0.092630</td>\n",
       "      <td>NaN</td>\n",
       "      <td>NaN</td>\n",
       "      <td>0.179200</td>\n",
       "      <td>...</td>\n",
       "      <td>14.970000</td>\n",
       "      <td>25.410000</td>\n",
       "      <td>97.660000</td>\n",
       "      <td>686.500000</td>\n",
       "      <td>0.131300</td>\n",
       "      <td>0.211900</td>\n",
       "      <td>NaN</td>\n",
       "      <td>NaN</td>\n",
       "      <td>0.282200</td>\n",
       "      <td>0.080040</td>\n",
       "    </tr>\n",
       "    <tr>\n",
       "      <th>75%</th>\n",
       "      <td>8.813129e+06</td>\n",
       "      <td>15.780000</td>\n",
       "      <td>21.800000</td>\n",
       "      <td>104.100000</td>\n",
       "      <td>782.700000</td>\n",
       "      <td>0.105300</td>\n",
       "      <td>0.130400</td>\n",
       "      <td>NaN</td>\n",
       "      <td>NaN</td>\n",
       "      <td>0.195700</td>\n",
       "      <td>...</td>\n",
       "      <td>18.790000</td>\n",
       "      <td>29.720000</td>\n",
       "      <td>125.400000</td>\n",
       "      <td>1084.000000</td>\n",
       "      <td>0.146000</td>\n",
       "      <td>0.339100</td>\n",
       "      <td>NaN</td>\n",
       "      <td>NaN</td>\n",
       "      <td>0.317900</td>\n",
       "      <td>0.092080</td>\n",
       "    </tr>\n",
       "    <tr>\n",
       "      <th>max</th>\n",
       "      <td>9.113205e+08</td>\n",
       "      <td>28.110000</td>\n",
       "      <td>39.280000</td>\n",
       "      <td>188.500000</td>\n",
       "      <td>2501.000000</td>\n",
       "      <td>0.163400</td>\n",
       "      <td>0.345400</td>\n",
       "      <td>0.426800</td>\n",
       "      <td>0.201200</td>\n",
       "      <td>0.304000</td>\n",
       "      <td>...</td>\n",
       "      <td>36.040000</td>\n",
       "      <td>49.540000</td>\n",
       "      <td>251.200000</td>\n",
       "      <td>4254.000000</td>\n",
       "      <td>0.222600</td>\n",
       "      <td>1.058000</td>\n",
       "      <td>1.252000</td>\n",
       "      <td>0.291000</td>\n",
       "      <td>0.663800</td>\n",
       "      <td>0.207500</td>\n",
       "    </tr>\n",
       "  </tbody>\n",
       "</table>\n",
       "<p>8 rows × 31 columns</p>\n",
       "</div>"
      ],
      "text/plain": [
       "                 ID  radius_mean  radius_sd_error  radius_worst  texture_mean  \\\n",
       "count  5.690000e+02   569.000000       569.000000    569.000000    569.000000   \n",
       "mean   3.037183e+07    14.127292        19.289649     91.969033    654.889104   \n",
       "std    1.250206e+08     3.524049         4.301036     24.298981    351.914129   \n",
       "min    8.670000e+03     6.981000         9.710000     43.790000    143.500000   \n",
       "25%    8.692180e+05    11.700000        16.170000     75.170000    420.300000   \n",
       "50%    9.060240e+05    13.370000        18.840000     86.240000    551.100000   \n",
       "75%    8.813129e+06    15.780000        21.800000    104.100000    782.700000   \n",
       "max    9.113205e+08    28.110000        39.280000    188.500000   2501.000000   \n",
       "\n",
       "       texture_sd_error  texture_worst  perimeter_mean  perimeter_sd_error  \\\n",
       "count        569.000000     569.000000      556.000000          556.000000   \n",
       "mean           0.096360       0.104341        0.090876            0.050063   \n",
       "std            0.014064       0.052813        0.079468            0.038517   \n",
       "min            0.052630       0.019380        0.000692            0.001852   \n",
       "25%            0.086370       0.064920             NaN                 NaN   \n",
       "50%            0.095870       0.092630             NaN                 NaN   \n",
       "75%            0.105300       0.130400             NaN                 NaN   \n",
       "max            0.163400       0.345400        0.426800            0.201200   \n",
       "\n",
       "       perimeter_worst           ...             concavity_worst  \\\n",
       "count       569.000000           ...                  569.000000   \n",
       "mean          0.181162           ...                   16.269190   \n",
       "std           0.027414           ...                    4.833242   \n",
       "min           0.106000           ...                    7.930000   \n",
       "25%           0.161900           ...                   13.010000   \n",
       "50%           0.179200           ...                   14.970000   \n",
       "75%           0.195700           ...                   18.790000   \n",
       "max           0.304000           ...                   36.040000   \n",
       "\n",
       "       concave_points_mean  concave_points_sd_error  concave_points_worst  \\\n",
       "count           569.000000               569.000000            569.000000   \n",
       "mean             25.677223               107.261213            880.583128   \n",
       "std               6.146258                33.602542            569.356993   \n",
       "min              12.020000                50.410000            185.200000   \n",
       "25%              21.080000                84.110000            515.300000   \n",
       "50%              25.410000                97.660000            686.500000   \n",
       "75%              29.720000               125.400000           1084.000000   \n",
       "max              49.540000               251.200000           4254.000000   \n",
       "\n",
       "       symmetry_mean  symmetry_sd_error  symmetry_worst  \\\n",
       "count     569.000000         569.000000      556.000000   \n",
       "mean        0.132369           0.254265        0.278553   \n",
       "std         0.022832           0.157336        0.206803   \n",
       "min         0.071170           0.027290        0.001845   \n",
       "25%         0.116600           0.147200             NaN   \n",
       "50%         0.131300           0.211900             NaN   \n",
       "75%         0.146000           0.339100             NaN   \n",
       "max         0.222600           1.058000        1.252000   \n",
       "\n",
       "       fractal_dimension_mean  fractal_dimension_sd_error  \\\n",
       "count              556.000000                  569.000000   \n",
       "mean                 0.117286                    0.290076   \n",
       "std                  0.064087                    0.061867   \n",
       "min                  0.008772                    0.156500   \n",
       "25%                       NaN                    0.250400   \n",
       "50%                       NaN                    0.282200   \n",
       "75%                       NaN                    0.317900   \n",
       "max                  0.291000                    0.663800   \n",
       "\n",
       "       fractal_dimension_worst  \n",
       "count               569.000000  \n",
       "mean                  0.083946  \n",
       "std                   0.018061  \n",
       "min                   0.055040  \n",
       "25%                   0.071460  \n",
       "50%                   0.080040  \n",
       "75%                   0.092080  \n",
       "max                   0.207500  \n",
       "\n",
       "[8 rows x 31 columns]"
      ]
     },
     "execution_count": 91,
     "metadata": {},
     "output_type": "execute_result"
    }
   ],
   "source": [
    "# Let's take a look at our data again to get an idea of it using describe.\n",
    "breast_cancer.describe()"
   ]
  },
  {
   "cell_type": "code",
   "execution_count": 92,
   "metadata": {
    "collapsed": false
   },
   "outputs": [
    {
     "data": {
      "text/html": [
       "<div>\n",
       "<table border=\"1\" class=\"dataframe\">\n",
       "  <thead>\n",
       "    <tr style=\"text-align: right;\">\n",
       "      <th></th>\n",
       "      <th>ID</th>\n",
       "      <th>radius_mean</th>\n",
       "      <th>radius_sd_error</th>\n",
       "      <th>radius_worst</th>\n",
       "      <th>texture_mean</th>\n",
       "      <th>texture_sd_error</th>\n",
       "      <th>texture_worst</th>\n",
       "      <th>perimeter_mean</th>\n",
       "      <th>perimeter_sd_error</th>\n",
       "      <th>perimeter_worst</th>\n",
       "      <th>...</th>\n",
       "      <th>concavity_worst</th>\n",
       "      <th>concave_points_mean</th>\n",
       "      <th>concave_points_sd_error</th>\n",
       "      <th>concave_points_worst</th>\n",
       "      <th>symmetry_mean</th>\n",
       "      <th>symmetry_sd_error</th>\n",
       "      <th>symmetry_worst</th>\n",
       "      <th>fractal_dimension_mean</th>\n",
       "      <th>fractal_dimension_sd_error</th>\n",
       "      <th>fractal_dimension_worst</th>\n",
       "    </tr>\n",
       "  </thead>\n",
       "  <tbody>\n",
       "    <tr>\n",
       "      <th>count</th>\n",
       "      <td>5.560000e+02</td>\n",
       "      <td>556.000000</td>\n",
       "      <td>556.000000</td>\n",
       "      <td>556.000000</td>\n",
       "      <td>556.000000</td>\n",
       "      <td>556.000000</td>\n",
       "      <td>556.000000</td>\n",
       "      <td>556.000000</td>\n",
       "      <td>556.000000</td>\n",
       "      <td>556.000000</td>\n",
       "      <td>...</td>\n",
       "      <td>556.000000</td>\n",
       "      <td>556.000000</td>\n",
       "      <td>556.000000</td>\n",
       "      <td>556.000000</td>\n",
       "      <td>556.000000</td>\n",
       "      <td>556.000000</td>\n",
       "      <td>556.000000</td>\n",
       "      <td>556.000000</td>\n",
       "      <td>556.000000</td>\n",
       "      <td>556.000000</td>\n",
       "    </tr>\n",
       "    <tr>\n",
       "      <th>mean</th>\n",
       "      <td>3.104770e+07</td>\n",
       "      <td>14.237565</td>\n",
       "      <td>19.259748</td>\n",
       "      <td>92.736673</td>\n",
       "      <td>663.734712</td>\n",
       "      <td>0.096616</td>\n",
       "      <td>0.105679</td>\n",
       "      <td>0.090876</td>\n",
       "      <td>0.050063</td>\n",
       "      <td>0.181278</td>\n",
       "      <td>...</td>\n",
       "      <td>16.407687</td>\n",
       "      <td>25.679388</td>\n",
       "      <td>108.242878</td>\n",
       "      <td>893.412410</td>\n",
       "      <td>0.132824</td>\n",
       "      <td>0.258472</td>\n",
       "      <td>0.278553</td>\n",
       "      <td>0.117286</td>\n",
       "      <td>0.290802</td>\n",
       "      <td>0.084141</td>\n",
       "    </tr>\n",
       "    <tr>\n",
       "      <th>std</th>\n",
       "      <td>1.263967e+08</td>\n",
       "      <td>3.482170</td>\n",
       "      <td>4.246993</td>\n",
       "      <td>24.006362</td>\n",
       "      <td>350.893313</td>\n",
       "      <td>0.013895</td>\n",
       "      <td>0.052643</td>\n",
       "      <td>0.079468</td>\n",
       "      <td>0.038517</td>\n",
       "      <td>0.027446</td>\n",
       "      <td>...</td>\n",
       "      <td>4.797695</td>\n",
       "      <td>6.105744</td>\n",
       "      <td>33.337041</td>\n",
       "      <td>569.492912</td>\n",
       "      <td>0.022616</td>\n",
       "      <td>0.156663</td>\n",
       "      <td>0.206803</td>\n",
       "      <td>0.064087</td>\n",
       "      <td>0.062027</td>\n",
       "      <td>0.018130</td>\n",
       "    </tr>\n",
       "    <tr>\n",
       "      <th>min</th>\n",
       "      <td>8.670000e+03</td>\n",
       "      <td>7.691000</td>\n",
       "      <td>9.710000</td>\n",
       "      <td>48.340000</td>\n",
       "      <td>170.400000</td>\n",
       "      <td>0.062510</td>\n",
       "      <td>0.019380</td>\n",
       "      <td>0.000692</td>\n",
       "      <td>0.001852</td>\n",
       "      <td>0.116700</td>\n",
       "      <td>...</td>\n",
       "      <td>8.678000</td>\n",
       "      <td>12.020000</td>\n",
       "      <td>54.490000</td>\n",
       "      <td>223.600000</td>\n",
       "      <td>0.081250</td>\n",
       "      <td>0.034320</td>\n",
       "      <td>0.001845</td>\n",
       "      <td>0.008772</td>\n",
       "      <td>0.156500</td>\n",
       "      <td>0.055040</td>\n",
       "    </tr>\n",
       "    <tr>\n",
       "      <th>25%</th>\n",
       "      <td>8.691895e+05</td>\n",
       "      <td>11.760000</td>\n",
       "      <td>16.177500</td>\n",
       "      <td>75.845000</td>\n",
       "      <td>427.750000</td>\n",
       "      <td>0.086665</td>\n",
       "      <td>0.066608</td>\n",
       "      <td>0.030880</td>\n",
       "      <td>0.020895</td>\n",
       "      <td>0.161900</td>\n",
       "      <td>...</td>\n",
       "      <td>13.085000</td>\n",
       "      <td>21.160000</td>\n",
       "      <td>84.567500</td>\n",
       "      <td>521.450000</td>\n",
       "      <td>0.117175</td>\n",
       "      <td>0.151175</td>\n",
       "      <td>0.121800</td>\n",
       "      <td>0.065713</td>\n",
       "      <td>0.250900</td>\n",
       "      <td>0.071873</td>\n",
       "    </tr>\n",
       "    <tr>\n",
       "      <th>50%</th>\n",
       "      <td>9.064145e+05</td>\n",
       "      <td>13.455000</td>\n",
       "      <td>18.855000</td>\n",
       "      <td>87.090000</td>\n",
       "      <td>557.650000</td>\n",
       "      <td>0.096035</td>\n",
       "      <td>0.095090</td>\n",
       "      <td>0.064905</td>\n",
       "      <td>0.034840</td>\n",
       "      <td>0.179250</td>\n",
       "      <td>...</td>\n",
       "      <td>15.040000</td>\n",
       "      <td>25.445000</td>\n",
       "      <td>98.320000</td>\n",
       "      <td>696.050000</td>\n",
       "      <td>0.131550</td>\n",
       "      <td>0.217000</td>\n",
       "      <td>0.231400</td>\n",
       "      <td>0.101700</td>\n",
       "      <td>0.282450</td>\n",
       "      <td>0.080075</td>\n",
       "    </tr>\n",
       "    <tr>\n",
       "      <th>75%</th>\n",
       "      <td>8.910313e+06</td>\n",
       "      <td>16.040000</td>\n",
       "      <td>21.735000</td>\n",
       "      <td>105.250000</td>\n",
       "      <td>798.050000</td>\n",
       "      <td>0.105400</td>\n",
       "      <td>0.130600</td>\n",
       "      <td>0.132325</td>\n",
       "      <td>0.074842</td>\n",
       "      <td>0.195750</td>\n",
       "      <td>...</td>\n",
       "      <td>19.097500</td>\n",
       "      <td>29.547500</td>\n",
       "      <td>126.750000</td>\n",
       "      <td>1106.750000</td>\n",
       "      <td>0.146325</td>\n",
       "      <td>0.341600</td>\n",
       "      <td>0.386200</td>\n",
       "      <td>0.163150</td>\n",
       "      <td>0.318850</td>\n",
       "      <td>0.092095</td>\n",
       "    </tr>\n",
       "    <tr>\n",
       "      <th>max</th>\n",
       "      <td>9.113205e+08</td>\n",
       "      <td>28.110000</td>\n",
       "      <td>39.280000</td>\n",
       "      <td>188.500000</td>\n",
       "      <td>2501.000000</td>\n",
       "      <td>0.163400</td>\n",
       "      <td>0.345400</td>\n",
       "      <td>0.426800</td>\n",
       "      <td>0.201200</td>\n",
       "      <td>0.304000</td>\n",
       "      <td>...</td>\n",
       "      <td>36.040000</td>\n",
       "      <td>49.540000</td>\n",
       "      <td>251.200000</td>\n",
       "      <td>4254.000000</td>\n",
       "      <td>0.222600</td>\n",
       "      <td>1.058000</td>\n",
       "      <td>1.252000</td>\n",
       "      <td>0.291000</td>\n",
       "      <td>0.663800</td>\n",
       "      <td>0.207500</td>\n",
       "    </tr>\n",
       "  </tbody>\n",
       "</table>\n",
       "<p>8 rows × 31 columns</p>\n",
       "</div>"
      ],
      "text/plain": [
       "                 ID  radius_mean  radius_sd_error  radius_worst  texture_mean  \\\n",
       "count  5.560000e+02   556.000000       556.000000    556.000000    556.000000   \n",
       "mean   3.104770e+07    14.237565        19.259748     92.736673    663.734712   \n",
       "std    1.263967e+08     3.482170         4.246993     24.006362    350.893313   \n",
       "min    8.670000e+03     7.691000         9.710000     48.340000    170.400000   \n",
       "25%    8.691895e+05    11.760000        16.177500     75.845000    427.750000   \n",
       "50%    9.064145e+05    13.455000        18.855000     87.090000    557.650000   \n",
       "75%    8.910313e+06    16.040000        21.735000    105.250000    798.050000   \n",
       "max    9.113205e+08    28.110000        39.280000    188.500000   2501.000000   \n",
       "\n",
       "       texture_sd_error  texture_worst  perimeter_mean  perimeter_sd_error  \\\n",
       "count        556.000000     556.000000      556.000000          556.000000   \n",
       "mean           0.096616       0.105679        0.090876            0.050063   \n",
       "std            0.013895       0.052643        0.079468            0.038517   \n",
       "min            0.062510       0.019380        0.000692            0.001852   \n",
       "25%            0.086665       0.066608        0.030880            0.020895   \n",
       "50%            0.096035       0.095090        0.064905            0.034840   \n",
       "75%            0.105400       0.130600        0.132325            0.074842   \n",
       "max            0.163400       0.345400        0.426800            0.201200   \n",
       "\n",
       "       perimeter_worst           ...             concavity_worst  \\\n",
       "count       556.000000           ...                  556.000000   \n",
       "mean          0.181278           ...                   16.407687   \n",
       "std           0.027446           ...                    4.797695   \n",
       "min           0.116700           ...                    8.678000   \n",
       "25%           0.161900           ...                   13.085000   \n",
       "50%           0.179250           ...                   15.040000   \n",
       "75%           0.195750           ...                   19.097500   \n",
       "max           0.304000           ...                   36.040000   \n",
       "\n",
       "       concave_points_mean  concave_points_sd_error  concave_points_worst  \\\n",
       "count           556.000000               556.000000            556.000000   \n",
       "mean             25.679388               108.242878            893.412410   \n",
       "std               6.105744                33.337041            569.492912   \n",
       "min              12.020000                54.490000            223.600000   \n",
       "25%              21.160000                84.567500            521.450000   \n",
       "50%              25.445000                98.320000            696.050000   \n",
       "75%              29.547500               126.750000           1106.750000   \n",
       "max              49.540000               251.200000           4254.000000   \n",
       "\n",
       "       symmetry_mean  symmetry_sd_error  symmetry_worst  \\\n",
       "count     556.000000         556.000000      556.000000   \n",
       "mean        0.132824           0.258472        0.278553   \n",
       "std         0.022616           0.156663        0.206803   \n",
       "min         0.081250           0.034320        0.001845   \n",
       "25%         0.117175           0.151175        0.121800   \n",
       "50%         0.131550           0.217000        0.231400   \n",
       "75%         0.146325           0.341600        0.386200   \n",
       "max         0.222600           1.058000        1.252000   \n",
       "\n",
       "       fractal_dimension_mean  fractal_dimension_sd_error  \\\n",
       "count              556.000000                  556.000000   \n",
       "mean                 0.117286                    0.290802   \n",
       "std                  0.064087                    0.062027   \n",
       "min                  0.008772                    0.156500   \n",
       "25%                  0.065713                    0.250900   \n",
       "50%                  0.101700                    0.282450   \n",
       "75%                  0.163150                    0.318850   \n",
       "max                  0.291000                    0.663800   \n",
       "\n",
       "       fractal_dimension_worst  \n",
       "count               556.000000  \n",
       "mean                  0.084141  \n",
       "std                   0.018130  \n",
       "min                   0.055040  \n",
       "25%                   0.071873  \n",
       "50%                   0.080075  \n",
       "75%                   0.092095  \n",
       "max                   0.207500  \n",
       "\n",
       "[8 rows x 31 columns]"
      ]
     },
     "execution_count": 92,
     "metadata": {},
     "output_type": "execute_result"
    }
   ],
   "source": [
    "# We have some NaN values that are interfering with getting summary statistics, so let's remove those rows for the purposes of getting those stats\n",
    "breast_cancer_dropNA = breast_cancer.dropna()\n",
    "breast_cancer_dropNA.describe()"
   ]
  },
  {
   "cell_type": "code",
   "execution_count": 94,
   "metadata": {
    "collapsed": false
   },
   "outputs": [
    {
     "data": {
      "text/html": [
       "<div>\n",
       "<table border=\"1\" class=\"dataframe\">\n",
       "  <thead>\n",
       "    <tr style=\"text-align: right;\">\n",
       "      <th></th>\n",
       "      <th>ID</th>\n",
       "      <th>radius_mean</th>\n",
       "      <th>radius_sd_error</th>\n",
       "      <th>radius_worst</th>\n",
       "      <th>texture_mean</th>\n",
       "      <th>texture_sd_error</th>\n",
       "      <th>texture_worst</th>\n",
       "      <th>perimeter_mean</th>\n",
       "      <th>perimeter_sd_error</th>\n",
       "      <th>perimeter_worst</th>\n",
       "      <th>...</th>\n",
       "      <th>concavity_worst</th>\n",
       "      <th>concave_points_mean</th>\n",
       "      <th>concave_points_sd_error</th>\n",
       "      <th>concave_points_worst</th>\n",
       "      <th>symmetry_mean</th>\n",
       "      <th>symmetry_sd_error</th>\n",
       "      <th>symmetry_worst</th>\n",
       "      <th>fractal_dimension_mean</th>\n",
       "      <th>fractal_dimension_sd_error</th>\n",
       "      <th>fractal_dimension_worst</th>\n",
       "    </tr>\n",
       "    <tr>\n",
       "      <th>diagnosis</th>\n",
       "      <th></th>\n",
       "      <th></th>\n",
       "      <th></th>\n",
       "      <th></th>\n",
       "      <th></th>\n",
       "      <th></th>\n",
       "      <th></th>\n",
       "      <th></th>\n",
       "      <th></th>\n",
       "      <th></th>\n",
       "      <th></th>\n",
       "      <th></th>\n",
       "      <th></th>\n",
       "      <th></th>\n",
       "      <th></th>\n",
       "      <th></th>\n",
       "      <th></th>\n",
       "      <th></th>\n",
       "      <th></th>\n",
       "      <th></th>\n",
       "      <th></th>\n",
       "    </tr>\n",
       "  </thead>\n",
       "  <tbody>\n",
       "    <tr>\n",
       "      <th>B</th>\n",
       "      <td>26543824</td>\n",
       "      <td>12.146524</td>\n",
       "      <td>17.914762</td>\n",
       "      <td>78.075406</td>\n",
       "      <td>462.790196</td>\n",
       "      <td>0.092478</td>\n",
       "      <td>0.080085</td>\n",
       "      <td>0.047798</td>\n",
       "      <td>0.026689</td>\n",
       "      <td>0.174186</td>\n",
       "      <td>...</td>\n",
       "      <td>13.379801</td>\n",
       "      <td>23.515070</td>\n",
       "      <td>87.005938</td>\n",
       "      <td>558.899440</td>\n",
       "      <td>0.124959</td>\n",
       "      <td>0.182673</td>\n",
       "      <td>0.172520</td>\n",
       "      <td>0.077258</td>\n",
       "      <td>0.270246</td>\n",
       "      <td>0.079442</td>\n",
       "    </tr>\n",
       "    <tr>\n",
       "      <th>M</th>\n",
       "      <td>36818050</td>\n",
       "      <td>17.462830</td>\n",
       "      <td>21.604906</td>\n",
       "      <td>115.365377</td>\n",
       "      <td>978.376415</td>\n",
       "      <td>0.102898</td>\n",
       "      <td>0.145188</td>\n",
       "      <td>0.160775</td>\n",
       "      <td>0.087990</td>\n",
       "      <td>0.192909</td>\n",
       "      <td>...</td>\n",
       "      <td>21.134811</td>\n",
       "      <td>29.318208</td>\n",
       "      <td>141.370330</td>\n",
       "      <td>1422.286321</td>\n",
       "      <td>0.144845</td>\n",
       "      <td>0.374824</td>\n",
       "      <td>0.450606</td>\n",
       "      <td>0.182237</td>\n",
       "      <td>0.323468</td>\n",
       "      <td>0.091530</td>\n",
       "    </tr>\n",
       "  </tbody>\n",
       "</table>\n",
       "<p>2 rows × 31 columns</p>\n",
       "</div>"
      ],
      "text/plain": [
       "                 ID  radius_mean  radius_sd_error  radius_worst  texture_mean  \\\n",
       "diagnosis                                                                       \n",
       "B          26543824    12.146524        17.914762     78.075406    462.790196   \n",
       "M          36818050    17.462830        21.604906    115.365377    978.376415   \n",
       "\n",
       "           texture_sd_error  texture_worst  perimeter_mean  \\\n",
       "diagnosis                                                    \n",
       "B                  0.092478       0.080085        0.047798   \n",
       "M                  0.102898       0.145188        0.160775   \n",
       "\n",
       "           perimeter_sd_error  perimeter_worst           ...             \\\n",
       "diagnosis                                                ...              \n",
       "B                    0.026689         0.174186           ...              \n",
       "M                    0.087990         0.192909           ...              \n",
       "\n",
       "           concavity_worst  concave_points_mean  concave_points_sd_error  \\\n",
       "diagnosis                                                                  \n",
       "B                13.379801            23.515070                87.005938   \n",
       "M                21.134811            29.318208               141.370330   \n",
       "\n",
       "           concave_points_worst  symmetry_mean  symmetry_sd_error  \\\n",
       "diagnosis                                                           \n",
       "B                    558.899440       0.124959           0.182673   \n",
       "M                   1422.286321       0.144845           0.374824   \n",
       "\n",
       "           symmetry_worst  fractal_dimension_mean  fractal_dimension_sd_error  \\\n",
       "diagnosis                                                                       \n",
       "B                0.172520                0.077258                    0.270246   \n",
       "M                0.450606                0.182237                    0.323468   \n",
       "\n",
       "           fractal_dimension_worst  \n",
       "diagnosis                           \n",
       "B                         0.079442  \n",
       "M                         0.091530  \n",
       "\n",
       "[2 rows x 31 columns]"
      ]
     },
     "execution_count": 94,
     "metadata": {},
     "output_type": "execute_result"
    }
   ],
   "source": [
    "breast_cancer.groupby('diagnosis').mean()"
   ]
  },
  {
   "cell_type": "markdown",
   "metadata": {},
   "source": [
    "It would seem that malignant tumors have a mor radius, texture, perimeter, and concavity than benign tumors. "
   ]
  },
  {
   "cell_type": "code",
   "execution_count": 95,
   "metadata": {
    "collapsed": false,
    "scrolled": true
   },
   "outputs": [
    {
     "data": {
      "text/html": [
       "<div>\n",
       "<table border=\"1\" class=\"dataframe\">\n",
       "  <thead>\n",
       "    <tr style=\"text-align: right;\">\n",
       "      <th></th>\n",
       "      <th></th>\n",
       "      <th>ID</th>\n",
       "      <th>area_mean</th>\n",
       "      <th>area_sd_error</th>\n",
       "      <th>area_worst</th>\n",
       "      <th>compactness_mean</th>\n",
       "      <th>compactness_sd_error</th>\n",
       "      <th>compactness_worst</th>\n",
       "      <th>concave_points_mean</th>\n",
       "      <th>concave_points_sd_error</th>\n",
       "      <th>concave_points_worst</th>\n",
       "      <th>...</th>\n",
       "      <th>radius_worst</th>\n",
       "      <th>smoothness_mean</th>\n",
       "      <th>smoothness_sd_error</th>\n",
       "      <th>smoothness_worst</th>\n",
       "      <th>symmetry_mean</th>\n",
       "      <th>symmetry_sd_error</th>\n",
       "      <th>symmetry_worst</th>\n",
       "      <th>texture_mean</th>\n",
       "      <th>texture_sd_error</th>\n",
       "      <th>texture_worst</th>\n",
       "    </tr>\n",
       "    <tr>\n",
       "      <th>diagnosis</th>\n",
       "      <th></th>\n",
       "      <th></th>\n",
       "      <th></th>\n",
       "      <th></th>\n",
       "      <th></th>\n",
       "      <th></th>\n",
       "      <th></th>\n",
       "      <th></th>\n",
       "      <th></th>\n",
       "      <th></th>\n",
       "      <th></th>\n",
       "      <th></th>\n",
       "      <th></th>\n",
       "      <th></th>\n",
       "      <th></th>\n",
       "      <th></th>\n",
       "      <th></th>\n",
       "      <th></th>\n",
       "      <th></th>\n",
       "      <th></th>\n",
       "      <th></th>\n",
       "      <th></th>\n",
       "    </tr>\n",
       "  </thead>\n",
       "  <tbody>\n",
       "    <tr>\n",
       "      <th rowspan=\"8\" valign=\"top\">B</th>\n",
       "      <th>count</th>\n",
       "      <td>3.440000e+02</td>\n",
       "      <td>344.000000</td>\n",
       "      <td>344.000000</td>\n",
       "      <td>344.000000</td>\n",
       "      <td>344.000000</td>\n",
       "      <td>344.000000</td>\n",
       "      <td>344.000000</td>\n",
       "      <td>344.000000</td>\n",
       "      <td>344.000000</td>\n",
       "      <td>344.000000</td>\n",
       "      <td>...</td>\n",
       "      <td>344.000000</td>\n",
       "      <td>344.000000</td>\n",
       "      <td>344.000000</td>\n",
       "      <td>344.000000</td>\n",
       "      <td>344.000000</td>\n",
       "      <td>344.000000</td>\n",
       "      <td>344.000000</td>\n",
       "      <td>344.000000</td>\n",
       "      <td>344.000000</td>\n",
       "      <td>344.000000</td>\n",
       "    </tr>\n",
       "    <tr>\n",
       "      <th>mean</th>\n",
       "      <td>2.749156e+07</td>\n",
       "      <td>0.062787</td>\n",
       "      <td>0.281566</td>\n",
       "      <td>1.181844</td>\n",
       "      <td>0.021874</td>\n",
       "      <td>0.026979</td>\n",
       "      <td>0.010230</td>\n",
       "      <td>23.436860</td>\n",
       "      <td>87.827122</td>\n",
       "      <td>567.478488</td>\n",
       "      <td>...</td>\n",
       "      <td>78.791076</td>\n",
       "      <td>1.989642</td>\n",
       "      <td>21.149578</td>\n",
       "      <td>0.007095</td>\n",
       "      <td>0.125416</td>\n",
       "      <td>0.186766</td>\n",
       "      <td>0.172520</td>\n",
       "      <td>469.827616</td>\n",
       "      <td>0.092745</td>\n",
       "      <td>0.081330</td>\n",
       "    </tr>\n",
       "    <tr>\n",
       "      <th>std</th>\n",
       "      <td>1.188265e+08</td>\n",
       "      <td>0.006734</td>\n",
       "      <td>0.112210</td>\n",
       "      <td>0.509727</td>\n",
       "      <td>0.016485</td>\n",
       "      <td>0.033138</td>\n",
       "      <td>0.005477</td>\n",
       "      <td>5.378146</td>\n",
       "      <td>12.967815</td>\n",
       "      <td>159.356994</td>\n",
       "      <td>...</td>\n",
       "      <td>11.276164</td>\n",
       "      <td>0.773281</td>\n",
       "      <td>8.904673</td>\n",
       "      <td>0.002943</td>\n",
       "      <td>0.019725</td>\n",
       "      <td>0.091283</td>\n",
       "      <td>0.139151</td>\n",
       "      <td>130.572882</td>\n",
       "      <td>0.013236</td>\n",
       "      <td>0.033641</td>\n",
       "    </tr>\n",
       "    <tr>\n",
       "      <th>min</th>\n",
       "      <td>8.913000e+03</td>\n",
       "      <td>0.051850</td>\n",
       "      <td>0.111500</td>\n",
       "      <td>0.360200</td>\n",
       "      <td>0.002252</td>\n",
       "      <td>0.000692</td>\n",
       "      <td>0.001852</td>\n",
       "      <td>12.020000</td>\n",
       "      <td>54.490000</td>\n",
       "      <td>223.600000</td>\n",
       "      <td>...</td>\n",
       "      <td>48.340000</td>\n",
       "      <td>0.757000</td>\n",
       "      <td>6.802000</td>\n",
       "      <td>0.002838</td>\n",
       "      <td>0.081250</td>\n",
       "      <td>0.034320</td>\n",
       "      <td>0.001845</td>\n",
       "      <td>170.400000</td>\n",
       "      <td>0.062510</td>\n",
       "      <td>0.019380</td>\n",
       "    </tr>\n",
       "    <tr>\n",
       "      <th>25%</th>\n",
       "      <td>8.750295e+05</td>\n",
       "      <td>0.058447</td>\n",
       "      <td>0.206700</td>\n",
       "      <td>0.791675</td>\n",
       "      <td>0.011785</td>\n",
       "      <td>0.011678</td>\n",
       "      <td>0.006651</td>\n",
       "      <td>19.587500</td>\n",
       "      <td>79.542500</td>\n",
       "      <td>458.975000</td>\n",
       "      <td>...</td>\n",
       "      <td>71.670000</td>\n",
       "      <td>1.443750</td>\n",
       "      <td>15.255000</td>\n",
       "      <td>0.005152</td>\n",
       "      <td>0.110950</td>\n",
       "      <td>0.122025</td>\n",
       "      <td>0.083982</td>\n",
       "      <td>386.675000</td>\n",
       "      <td>0.083602</td>\n",
       "      <td>0.057412</td>\n",
       "    </tr>\n",
       "    <tr>\n",
       "      <th>50%</th>\n",
       "      <td>9.092255e+05</td>\n",
       "      <td>0.061510</td>\n",
       "      <td>0.256550</td>\n",
       "      <td>1.088000</td>\n",
       "      <td>0.016630</td>\n",
       "      <td>0.018650</td>\n",
       "      <td>0.009160</td>\n",
       "      <td>22.830000</td>\n",
       "      <td>87.360000</td>\n",
       "      <td>550.950000</td>\n",
       "      <td>...</td>\n",
       "      <td>78.570000</td>\n",
       "      <td>1.828000</td>\n",
       "      <td>19.625000</td>\n",
       "      <td>0.006451</td>\n",
       "      <td>0.125600</td>\n",
       "      <td>0.172800</td>\n",
       "      <td>0.145150</td>\n",
       "      <td>462.450000</td>\n",
       "      <td>0.090870</td>\n",
       "      <td>0.076270</td>\n",
       "    </tr>\n",
       "    <tr>\n",
       "      <th>75%</th>\n",
       "      <td>8.812915e+06</td>\n",
       "      <td>0.065725</td>\n",
       "      <td>0.338525</td>\n",
       "      <td>1.478250</td>\n",
       "      <td>0.026687</td>\n",
       "      <td>0.031133</td>\n",
       "      <td>0.012103</td>\n",
       "      <td>26.450000</td>\n",
       "      <td>96.832500</td>\n",
       "      <td>674.825000</td>\n",
       "      <td>...</td>\n",
       "      <td>86.517500</td>\n",
       "      <td>2.364500</td>\n",
       "      <td>25.037500</td>\n",
       "      <td>0.008349</td>\n",
       "      <td>0.137875</td>\n",
       "      <td>0.232300</td>\n",
       "      <td>0.225200</td>\n",
       "      <td>553.900000</td>\n",
       "      <td>0.100700</td>\n",
       "      <td>0.100013</td>\n",
       "    </tr>\n",
       "    <tr>\n",
       "      <th>max</th>\n",
       "      <td>9.113205e+08</td>\n",
       "      <td>0.095750</td>\n",
       "      <td>0.881100</td>\n",
       "      <td>2.904000</td>\n",
       "      <td>0.106400</td>\n",
       "      <td>0.396000</td>\n",
       "      <td>0.052790</td>\n",
       "      <td>41.780000</td>\n",
       "      <td>127.100000</td>\n",
       "      <td>1210.000000</td>\n",
       "      <td>...</td>\n",
       "      <td>114.600000</td>\n",
       "      <td>5.118000</td>\n",
       "      <td>77.110000</td>\n",
       "      <td>0.021770</td>\n",
       "      <td>0.200600</td>\n",
       "      <td>0.584900</td>\n",
       "      <td>1.252000</td>\n",
       "      <td>992.100000</td>\n",
       "      <td>0.163400</td>\n",
       "      <td>0.223900</td>\n",
       "    </tr>\n",
       "    <tr>\n",
       "      <th rowspan=\"8\" valign=\"top\">M</th>\n",
       "      <th>count</th>\n",
       "      <td>2.120000e+02</td>\n",
       "      <td>212.000000</td>\n",
       "      <td>212.000000</td>\n",
       "      <td>212.000000</td>\n",
       "      <td>212.000000</td>\n",
       "      <td>212.000000</td>\n",
       "      <td>212.000000</td>\n",
       "      <td>212.000000</td>\n",
       "      <td>212.000000</td>\n",
       "      <td>212.000000</td>\n",
       "      <td>...</td>\n",
       "      <td>212.000000</td>\n",
       "      <td>212.000000</td>\n",
       "      <td>212.000000</td>\n",
       "      <td>212.000000</td>\n",
       "      <td>212.000000</td>\n",
       "      <td>212.000000</td>\n",
       "      <td>212.000000</td>\n",
       "      <td>212.000000</td>\n",
       "      <td>212.000000</td>\n",
       "      <td>212.000000</td>\n",
       "    </tr>\n",
       "    <tr>\n",
       "      <th>mean</th>\n",
       "      <td>3.681805e+07</td>\n",
       "      <td>0.062680</td>\n",
       "      <td>0.609083</td>\n",
       "      <td>1.210915</td>\n",
       "      <td>0.032281</td>\n",
       "      <td>0.041824</td>\n",
       "      <td>0.015060</td>\n",
       "      <td>29.318208</td>\n",
       "      <td>141.370330</td>\n",
       "      <td>1422.286321</td>\n",
       "      <td>...</td>\n",
       "      <td>115.365377</td>\n",
       "      <td>4.323929</td>\n",
       "      <td>72.672406</td>\n",
       "      <td>0.006780</td>\n",
       "      <td>0.144845</td>\n",
       "      <td>0.374824</td>\n",
       "      <td>0.450606</td>\n",
       "      <td>978.376415</td>\n",
       "      <td>0.102898</td>\n",
       "      <td>0.145188</td>\n",
       "    </tr>\n",
       "    <tr>\n",
       "      <th>std</th>\n",
       "      <td>1.378965e+08</td>\n",
       "      <td>0.007573</td>\n",
       "      <td>0.345039</td>\n",
       "      <td>0.483178</td>\n",
       "      <td>0.018387</td>\n",
       "      <td>0.021603</td>\n",
       "      <td>0.005517</td>\n",
       "      <td>5.434804</td>\n",
       "      <td>29.457055</td>\n",
       "      <td>597.967743</td>\n",
       "      <td>...</td>\n",
       "      <td>21.854653</td>\n",
       "      <td>2.568546</td>\n",
       "      <td>61.355268</td>\n",
       "      <td>0.002890</td>\n",
       "      <td>0.021870</td>\n",
       "      <td>0.170372</td>\n",
       "      <td>0.181507</td>\n",
       "      <td>367.937978</td>\n",
       "      <td>0.012608</td>\n",
       "      <td>0.053987</td>\n",
       "    </tr>\n",
       "    <tr>\n",
       "      <th>min</th>\n",
       "      <td>8.670000e+03</td>\n",
       "      <td>0.049960</td>\n",
       "      <td>0.193800</td>\n",
       "      <td>0.362100</td>\n",
       "      <td>0.008422</td>\n",
       "      <td>0.011010</td>\n",
       "      <td>0.005174</td>\n",
       "      <td>16.670000</td>\n",
       "      <td>85.100000</td>\n",
       "      <td>508.100000</td>\n",
       "      <td>...</td>\n",
       "      <td>71.900000</td>\n",
       "      <td>1.334000</td>\n",
       "      <td>13.990000</td>\n",
       "      <td>0.002667</td>\n",
       "      <td>0.088220</td>\n",
       "      <td>0.051310</td>\n",
       "      <td>0.023980</td>\n",
       "      <td>361.600000</td>\n",
       "      <td>0.073710</td>\n",
       "      <td>0.046050</td>\n",
       "    </tr>\n",
       "    <tr>\n",
       "      <th>25%</th>\n",
       "      <td>8.613450e+05</td>\n",
       "      <td>0.056598</td>\n",
       "      <td>0.390375</td>\n",
       "      <td>0.892825</td>\n",
       "      <td>0.019662</td>\n",
       "      <td>0.026998</td>\n",
       "      <td>0.011415</td>\n",
       "      <td>25.782500</td>\n",
       "      <td>119.325000</td>\n",
       "      <td>970.300000</td>\n",
       "      <td>...</td>\n",
       "      <td>98.745000</td>\n",
       "      <td>2.715500</td>\n",
       "      <td>35.762500</td>\n",
       "      <td>0.005085</td>\n",
       "      <td>0.130475</td>\n",
       "      <td>0.244475</td>\n",
       "      <td>0.326425</td>\n",
       "      <td>705.300000</td>\n",
       "      <td>0.094010</td>\n",
       "      <td>0.109600</td>\n",
       "    </tr>\n",
       "    <tr>\n",
       "      <th>50%</th>\n",
       "      <td>8.953665e+05</td>\n",
       "      <td>0.061575</td>\n",
       "      <td>0.547200</td>\n",
       "      <td>1.102500</td>\n",
       "      <td>0.028590</td>\n",
       "      <td>0.037125</td>\n",
       "      <td>0.014205</td>\n",
       "      <td>28.945000</td>\n",
       "      <td>138.000000</td>\n",
       "      <td>1303.000000</td>\n",
       "      <td>...</td>\n",
       "      <td>114.200000</td>\n",
       "      <td>3.679500</td>\n",
       "      <td>58.455000</td>\n",
       "      <td>0.006209</td>\n",
       "      <td>0.143450</td>\n",
       "      <td>0.356350</td>\n",
       "      <td>0.404900</td>\n",
       "      <td>932.000000</td>\n",
       "      <td>0.102200</td>\n",
       "      <td>0.132350</td>\n",
       "    </tr>\n",
       "    <tr>\n",
       "      <th>75%</th>\n",
       "      <td>8.911290e+06</td>\n",
       "      <td>0.067075</td>\n",
       "      <td>0.757300</td>\n",
       "      <td>1.429250</td>\n",
       "      <td>0.038910</td>\n",
       "      <td>0.050443</td>\n",
       "      <td>0.017497</td>\n",
       "      <td>32.690000</td>\n",
       "      <td>159.800000</td>\n",
       "      <td>1712.750000</td>\n",
       "      <td>...</td>\n",
       "      <td>129.925000</td>\n",
       "      <td>5.206250</td>\n",
       "      <td>94.000000</td>\n",
       "      <td>0.007971</td>\n",
       "      <td>0.155975</td>\n",
       "      <td>0.447850</td>\n",
       "      <td>0.556175</td>\n",
       "      <td>1203.750000</td>\n",
       "      <td>0.110925</td>\n",
       "      <td>0.172400</td>\n",
       "    </tr>\n",
       "    <tr>\n",
       "      <th>max</th>\n",
       "      <td>9.112962e+08</td>\n",
       "      <td>0.097440</td>\n",
       "      <td>2.873000</td>\n",
       "      <td>3.568000</td>\n",
       "      <td>0.135400</td>\n",
       "      <td>0.143800</td>\n",
       "      <td>0.040900</td>\n",
       "      <td>49.540000</td>\n",
       "      <td>251.200000</td>\n",
       "      <td>4254.000000</td>\n",
       "      <td>...</td>\n",
       "      <td>188.500000</td>\n",
       "      <td>21.980000</td>\n",
       "      <td>542.200000</td>\n",
       "      <td>0.031130</td>\n",
       "      <td>0.222600</td>\n",
       "      <td>1.058000</td>\n",
       "      <td>1.170000</td>\n",
       "      <td>2501.000000</td>\n",
       "      <td>0.144700</td>\n",
       "      <td>0.345400</td>\n",
       "    </tr>\n",
       "  </tbody>\n",
       "</table>\n",
       "<p>16 rows × 31 columns</p>\n",
       "</div>"
      ],
      "text/plain": [
       "                           ID   area_mean  area_sd_error  area_worst  \\\n",
       "diagnosis                                                              \n",
       "B         count  3.440000e+02  344.000000     344.000000  344.000000   \n",
       "          mean   2.749156e+07    0.062787       0.281566    1.181844   \n",
       "          std    1.188265e+08    0.006734       0.112210    0.509727   \n",
       "          min    8.913000e+03    0.051850       0.111500    0.360200   \n",
       "          25%    8.750295e+05    0.058447       0.206700    0.791675   \n",
       "          50%    9.092255e+05    0.061510       0.256550    1.088000   \n",
       "          75%    8.812915e+06    0.065725       0.338525    1.478250   \n",
       "          max    9.113205e+08    0.095750       0.881100    2.904000   \n",
       "M         count  2.120000e+02  212.000000     212.000000  212.000000   \n",
       "          mean   3.681805e+07    0.062680       0.609083    1.210915   \n",
       "          std    1.378965e+08    0.007573       0.345039    0.483178   \n",
       "          min    8.670000e+03    0.049960       0.193800    0.362100   \n",
       "          25%    8.613450e+05    0.056598       0.390375    0.892825   \n",
       "          50%    8.953665e+05    0.061575       0.547200    1.102500   \n",
       "          75%    8.911290e+06    0.067075       0.757300    1.429250   \n",
       "          max    9.112962e+08    0.097440       2.873000    3.568000   \n",
       "\n",
       "                 compactness_mean  compactness_sd_error  compactness_worst  \\\n",
       "diagnosis                                                                    \n",
       "B         count        344.000000            344.000000         344.000000   \n",
       "          mean           0.021874              0.026979           0.010230   \n",
       "          std            0.016485              0.033138           0.005477   \n",
       "          min            0.002252              0.000692           0.001852   \n",
       "          25%            0.011785              0.011678           0.006651   \n",
       "          50%            0.016630              0.018650           0.009160   \n",
       "          75%            0.026687              0.031133           0.012103   \n",
       "          max            0.106400              0.396000           0.052790   \n",
       "M         count        212.000000            212.000000         212.000000   \n",
       "          mean           0.032281              0.041824           0.015060   \n",
       "          std            0.018387              0.021603           0.005517   \n",
       "          min            0.008422              0.011010           0.005174   \n",
       "          25%            0.019662              0.026998           0.011415   \n",
       "          50%            0.028590              0.037125           0.014205   \n",
       "          75%            0.038910              0.050443           0.017497   \n",
       "          max            0.135400              0.143800           0.040900   \n",
       "\n",
       "                 concave_points_mean  concave_points_sd_error  \\\n",
       "diagnosis                                                       \n",
       "B         count           344.000000               344.000000   \n",
       "          mean             23.436860                87.827122   \n",
       "          std               5.378146                12.967815   \n",
       "          min              12.020000                54.490000   \n",
       "          25%              19.587500                79.542500   \n",
       "          50%              22.830000                87.360000   \n",
       "          75%              26.450000                96.832500   \n",
       "          max              41.780000               127.100000   \n",
       "M         count           212.000000               212.000000   \n",
       "          mean             29.318208               141.370330   \n",
       "          std               5.434804                29.457055   \n",
       "          min              16.670000                85.100000   \n",
       "          25%              25.782500               119.325000   \n",
       "          50%              28.945000               138.000000   \n",
       "          75%              32.690000               159.800000   \n",
       "          max              49.540000               251.200000   \n",
       "\n",
       "                 concave_points_worst      ...        radius_worst  \\\n",
       "diagnosis                                  ...                       \n",
       "B         count            344.000000      ...          344.000000   \n",
       "          mean             567.478488      ...           78.791076   \n",
       "          std              159.356994      ...           11.276164   \n",
       "          min              223.600000      ...           48.340000   \n",
       "          25%              458.975000      ...           71.670000   \n",
       "          50%              550.950000      ...           78.570000   \n",
       "          75%              674.825000      ...           86.517500   \n",
       "          max             1210.000000      ...          114.600000   \n",
       "M         count            212.000000      ...          212.000000   \n",
       "          mean            1422.286321      ...          115.365377   \n",
       "          std              597.967743      ...           21.854653   \n",
       "          min              508.100000      ...           71.900000   \n",
       "          25%              970.300000      ...           98.745000   \n",
       "          50%             1303.000000      ...          114.200000   \n",
       "          75%             1712.750000      ...          129.925000   \n",
       "          max             4254.000000      ...          188.500000   \n",
       "\n",
       "                 smoothness_mean  smoothness_sd_error  smoothness_worst  \\\n",
       "diagnosis                                                                 \n",
       "B         count       344.000000           344.000000        344.000000   \n",
       "          mean          1.989642            21.149578          0.007095   \n",
       "          std           0.773281             8.904673          0.002943   \n",
       "          min           0.757000             6.802000          0.002838   \n",
       "          25%           1.443750            15.255000          0.005152   \n",
       "          50%           1.828000            19.625000          0.006451   \n",
       "          75%           2.364500            25.037500          0.008349   \n",
       "          max           5.118000            77.110000          0.021770   \n",
       "M         count       212.000000           212.000000        212.000000   \n",
       "          mean          4.323929            72.672406          0.006780   \n",
       "          std           2.568546            61.355268          0.002890   \n",
       "          min           1.334000            13.990000          0.002667   \n",
       "          25%           2.715500            35.762500          0.005085   \n",
       "          50%           3.679500            58.455000          0.006209   \n",
       "          75%           5.206250            94.000000          0.007971   \n",
       "          max          21.980000           542.200000          0.031130   \n",
       "\n",
       "                 symmetry_mean  symmetry_sd_error  symmetry_worst  \\\n",
       "diagnosis                                                           \n",
       "B         count     344.000000         344.000000      344.000000   \n",
       "          mean        0.125416           0.186766        0.172520   \n",
       "          std         0.019725           0.091283        0.139151   \n",
       "          min         0.081250           0.034320        0.001845   \n",
       "          25%         0.110950           0.122025        0.083982   \n",
       "          50%         0.125600           0.172800        0.145150   \n",
       "          75%         0.137875           0.232300        0.225200   \n",
       "          max         0.200600           0.584900        1.252000   \n",
       "M         count     212.000000         212.000000      212.000000   \n",
       "          mean        0.144845           0.374824        0.450606   \n",
       "          std         0.021870           0.170372        0.181507   \n",
       "          min         0.088220           0.051310        0.023980   \n",
       "          25%         0.130475           0.244475        0.326425   \n",
       "          50%         0.143450           0.356350        0.404900   \n",
       "          75%         0.155975           0.447850        0.556175   \n",
       "          max         0.222600           1.058000        1.170000   \n",
       "\n",
       "                 texture_mean  texture_sd_error  texture_worst  \n",
       "diagnosis                                                       \n",
       "B         count    344.000000        344.000000     344.000000  \n",
       "          mean     469.827616          0.092745       0.081330  \n",
       "          std      130.572882          0.013236       0.033641  \n",
       "          min      170.400000          0.062510       0.019380  \n",
       "          25%      386.675000          0.083602       0.057412  \n",
       "          50%      462.450000          0.090870       0.076270  \n",
       "          75%      553.900000          0.100700       0.100013  \n",
       "          max      992.100000          0.163400       0.223900  \n",
       "M         count    212.000000        212.000000     212.000000  \n",
       "          mean     978.376415          0.102898       0.145188  \n",
       "          std      367.937978          0.012608       0.053987  \n",
       "          min      361.600000          0.073710       0.046050  \n",
       "          25%      705.300000          0.094010       0.109600  \n",
       "          50%      932.000000          0.102200       0.132350  \n",
       "          75%     1203.750000          0.110925       0.172400  \n",
       "          max     2501.000000          0.144700       0.345400  \n",
       "\n",
       "[16 rows x 31 columns]"
      ]
     },
     "execution_count": 95,
     "metadata": {},
     "output_type": "execute_result"
    }
   ],
   "source": [
    "# sort the data by diagnosis (our categorical response variable) and take a look at the summary statistics\n",
    "sorted_diagnosis = breast_cancer_dropNA.groupby('diagnosis')\n",
    "sorted_diagnosis.describe()"
   ]
  },
  {
   "cell_type": "code",
   "execution_count": 96,
   "metadata": {
    "collapsed": false
   },
   "outputs": [
    {
     "data": {
      "image/png": "[encoded data removed]",
      "text/plain": [
       "<matplotlib.figure.Figure at 0x126e34210>"
      ]
     },
     "metadata": {},
     "output_type": "display_data"
    },
    {
     "data": {
      "image/png": "[encoded data removed]",
      "text/plain": [
       "<matplotlib.figure.Figure at 0x12303fa50>"
      ]
     },
     "metadata": {},
     "output_type": "display_data"
    }
   ],
   "source": [
    "# take a look at the histograms to get a nice visual representation of our problem\n",
    "sorted_diagnosis.hist()\n",
    "pl.show()"
   ]
  },
  {
   "cell_type": "code",
   "execution_count": 99,
   "metadata": {
    "collapsed": false
   },
   "outputs": [],
   "source": [
    "# We need to create a dummy variable to represent our categorical response variable as a binary\n",
    "# This will create a new DataFrame with binary indicator variables for each category of diagnosis in the column specified. \n",
    "dummy_diagnosis = pd.get_dummies(breast_cancer['diagnosis'], prefix='diagnosis')\n",
    "dummy_diagnosis = dummy_diagnosis.drop('diagnosis_B', axis = 1)\n",
    "dummy_diagnosis.head()\n",
    "# manually add the intercept. The statsmodels function we're going to be using requires that intercepts/constants are specified explicitly.\n",
    "dummy_diagnosis ['intercept'] = 1.0"
   ]
  },
  {
   "cell_type": "code",
   "execution_count": 100,
   "metadata": {
    "collapsed": false
   },
   "outputs": [
    {
     "data": {
      "text/html": [
       "<div>\n",
       "<table border=\"1\" class=\"dataframe\">\n",
       "  <thead>\n",
       "    <tr style=\"text-align: right;\">\n",
       "      <th></th>\n",
       "      <th>diagnosis_M</th>\n",
       "      <th>intercept</th>\n",
       "      <th>ID</th>\n",
       "      <th>radius_mean</th>\n",
       "      <th>radius_sd_error</th>\n",
       "      <th>radius_worst</th>\n",
       "      <th>texture_mean</th>\n",
       "      <th>texture_sd_error</th>\n",
       "      <th>texture_worst</th>\n",
       "      <th>perimeter_mean</th>\n",
       "      <th>...</th>\n",
       "      <th>concavity_worst</th>\n",
       "      <th>concave_points_mean</th>\n",
       "      <th>concave_points_sd_error</th>\n",
       "      <th>concave_points_worst</th>\n",
       "      <th>symmetry_mean</th>\n",
       "      <th>symmetry_sd_error</th>\n",
       "      <th>symmetry_worst</th>\n",
       "      <th>fractal_dimension_mean</th>\n",
       "      <th>fractal_dimension_sd_error</th>\n",
       "      <th>fractal_dimension_worst</th>\n",
       "    </tr>\n",
       "  </thead>\n",
       "  <tbody>\n",
       "    <tr>\n",
       "      <th>0</th>\n",
       "      <td>1.0</td>\n",
       "      <td>1.0</td>\n",
       "      <td>842302</td>\n",
       "      <td>17.99</td>\n",
       "      <td>10.38</td>\n",
       "      <td>122.80</td>\n",
       "      <td>1001.0</td>\n",
       "      <td>0.11840</td>\n",
       "      <td>0.27760</td>\n",
       "      <td>0.3001</td>\n",
       "      <td>...</td>\n",
       "      <td>25.38</td>\n",
       "      <td>17.33</td>\n",
       "      <td>184.60</td>\n",
       "      <td>2019.0</td>\n",
       "      <td>0.1622</td>\n",
       "      <td>0.6656</td>\n",
       "      <td>0.7119</td>\n",
       "      <td>0.2654</td>\n",
       "      <td>0.4601</td>\n",
       "      <td>0.11890</td>\n",
       "    </tr>\n",
       "    <tr>\n",
       "      <th>1</th>\n",
       "      <td>1.0</td>\n",
       "      <td>1.0</td>\n",
       "      <td>842517</td>\n",
       "      <td>20.57</td>\n",
       "      <td>17.77</td>\n",
       "      <td>132.90</td>\n",
       "      <td>1326.0</td>\n",
       "      <td>0.08474</td>\n",
       "      <td>0.07864</td>\n",
       "      <td>0.0869</td>\n",
       "      <td>...</td>\n",
       "      <td>24.99</td>\n",
       "      <td>23.41</td>\n",
       "      <td>158.80</td>\n",
       "      <td>1956.0</td>\n",
       "      <td>0.1238</td>\n",
       "      <td>0.1866</td>\n",
       "      <td>0.2416</td>\n",
       "      <td>0.1860</td>\n",
       "      <td>0.2750</td>\n",
       "      <td>0.08902</td>\n",
       "    </tr>\n",
       "    <tr>\n",
       "      <th>2</th>\n",
       "      <td>1.0</td>\n",
       "      <td>1.0</td>\n",
       "      <td>84300903</td>\n",
       "      <td>19.69</td>\n",
       "      <td>21.25</td>\n",
       "      <td>130.00</td>\n",
       "      <td>1203.0</td>\n",
       "      <td>0.10960</td>\n",
       "      <td>0.15990</td>\n",
       "      <td>0.1974</td>\n",
       "      <td>...</td>\n",
       "      <td>23.57</td>\n",
       "      <td>25.53</td>\n",
       "      <td>152.50</td>\n",
       "      <td>1709.0</td>\n",
       "      <td>0.1444</td>\n",
       "      <td>0.4245</td>\n",
       "      <td>0.4504</td>\n",
       "      <td>0.2430</td>\n",
       "      <td>0.3613</td>\n",
       "      <td>0.08758</td>\n",
       "    </tr>\n",
       "    <tr>\n",
       "      <th>3</th>\n",
       "      <td>1.0</td>\n",
       "      <td>1.0</td>\n",
       "      <td>84348301</td>\n",
       "      <td>11.42</td>\n",
       "      <td>20.38</td>\n",
       "      <td>77.58</td>\n",
       "      <td>386.1</td>\n",
       "      <td>0.14250</td>\n",
       "      <td>0.28390</td>\n",
       "      <td>0.2414</td>\n",
       "      <td>...</td>\n",
       "      <td>14.91</td>\n",
       "      <td>26.50</td>\n",
       "      <td>98.87</td>\n",
       "      <td>567.7</td>\n",
       "      <td>0.2098</td>\n",
       "      <td>0.8663</td>\n",
       "      <td>0.6869</td>\n",
       "      <td>0.2575</td>\n",
       "      <td>0.6638</td>\n",
       "      <td>0.17300</td>\n",
       "    </tr>\n",
       "    <tr>\n",
       "      <th>4</th>\n",
       "      <td>1.0</td>\n",
       "      <td>1.0</td>\n",
       "      <td>84358402</td>\n",
       "      <td>20.29</td>\n",
       "      <td>14.34</td>\n",
       "      <td>135.10</td>\n",
       "      <td>1297.0</td>\n",
       "      <td>0.10030</td>\n",
       "      <td>0.13280</td>\n",
       "      <td>0.1980</td>\n",
       "      <td>...</td>\n",
       "      <td>22.54</td>\n",
       "      <td>16.67</td>\n",
       "      <td>152.20</td>\n",
       "      <td>1575.0</td>\n",
       "      <td>0.1374</td>\n",
       "      <td>0.2050</td>\n",
       "      <td>0.4000</td>\n",
       "      <td>0.1625</td>\n",
       "      <td>0.2364</td>\n",
       "      <td>0.07678</td>\n",
       "    </tr>\n",
       "  </tbody>\n",
       "</table>\n",
       "<p>5 rows × 33 columns</p>\n",
       "</div>"
      ],
      "text/plain": [
       "   diagnosis_M  intercept        ID  radius_mean  radius_sd_error  \\\n",
       "0          1.0        1.0    842302        17.99            10.38   \n",
       "1          1.0        1.0    842517        20.57            17.77   \n",
       "2          1.0        1.0  84300903        19.69            21.25   \n",
       "3          1.0        1.0  84348301        11.42            20.38   \n",
       "4          1.0        1.0  84358402        20.29            14.34   \n",
       "\n",
       "   radius_worst  texture_mean  texture_sd_error  texture_worst  \\\n",
       "0        122.80        1001.0           0.11840        0.27760   \n",
       "1        132.90        1326.0           0.08474        0.07864   \n",
       "2        130.00        1203.0           0.10960        0.15990   \n",
       "3         77.58         386.1           0.14250        0.28390   \n",
       "4        135.10        1297.0           0.10030        0.13280   \n",
       "\n",
       "   perimeter_mean           ...             concavity_worst  \\\n",
       "0          0.3001           ...                       25.38   \n",
       "1          0.0869           ...                       24.99   \n",
       "2          0.1974           ...                       23.57   \n",
       "3          0.2414           ...                       14.91   \n",
       "4          0.1980           ...                       22.54   \n",
       "\n",
       "   concave_points_mean  concave_points_sd_error  concave_points_worst  \\\n",
       "0                17.33                   184.60                2019.0   \n",
       "1                23.41                   158.80                1956.0   \n",
       "2                25.53                   152.50                1709.0   \n",
       "3                26.50                    98.87                 567.7   \n",
       "4                16.67                   152.20                1575.0   \n",
       "\n",
       "   symmetry_mean  symmetry_sd_error  symmetry_worst  fractal_dimension_mean  \\\n",
       "0         0.1622             0.6656          0.7119                  0.2654   \n",
       "1         0.1238             0.1866          0.2416                  0.1860   \n",
       "2         0.1444             0.4245          0.4504                  0.2430   \n",
       "3         0.2098             0.8663          0.6869                  0.2575   \n",
       "4         0.1374             0.2050          0.4000                  0.1625   \n",
       "\n",
       "   fractal_dimension_sd_error  fractal_dimension_worst  \n",
       "0                      0.4601                  0.11890  \n",
       "1                      0.2750                  0.08902  \n",
       "2                      0.3613                  0.08758  \n",
       "3                      0.6638                  0.17300  \n",
       "4                      0.2364                  0.07678  \n",
       "\n",
       "[5 rows x 33 columns]"
      ]
     },
     "execution_count": 100,
     "metadata": {},
     "output_type": "execute_result"
    }
   ],
   "source": [
    "# merge the new dummy columns into the original dataset and get rid of the diagnosis column which we no longer need\n",
    "breast_cancer_dropdiag = breast_cancer.drop('diagnosis', axis=1)\n",
    "breast_cancer_logreg = pd.concat([dummy_diagnosis, breast_cancer_dropdiag], axis=1)\n",
    "breast_cancer_logreg.head()"
   ]
  },
  {
   "cell_type": "code",
   "execution_count": 103,
   "metadata": {
    "collapsed": false
   },
   "outputs": [
    {
     "data": {
      "text/plain": [
       "0.9532374100719424"
      ]
     },
     "execution_count": 103,
     "metadata": {},
     "output_type": "execute_result"
    }
   ],
   "source": [
    "# now we are ready to actually do our logistic regression. \n",
    "# we'll be predicting the diagnosis_M column (whether malignant or not) using the other columns (except ID)\n",
    "# instantiate a logistic regression model, and fit it\n",
    "# We also need to flatten diagnosis into a 1-D array, so that scikit-learn will properly understand it as the response variable\n",
    "breast_cancer_logreg = breast_cancer_logreg.dropna()\n",
    "y_diagnosis = np.ravel(breast_cancer_logreg['diagnosis_M'])\n",
    "# we are going to simplify our predictive variables\n",
    "# for the first analysis, we'll just look at the mean to see if average values can predict malignancy (expound upon how important it is to have independent measures)\n",
    "# there is value in looking at the extreme values as well, but we will start with mean values so we have independent measures\n",
    "# there is also value in looking at whether variation in these measurements predicts malignancy, but for our purposes, we will focus on mean and worst\n",
    "x_breast_cancer_pred = breast_cancer_logreg.drop(['diagnosis_M', 'ID', 'radius_sd_error', 'texture_sd_error', 'perimeter_sd_error', 'area_sd_error', 'smoothness_sd_error', 'compactness_sd_error', 'concavity_sd_error', 'symmetry_sd_error', 'fractal_dimension_sd_error'], axis = 1)\n",
    "\n",
    "model = LogisticRegression()\n",
    "model = model.fit(x_breast_cancer_pred, y_diagnosis)\n",
    "\n",
    "# check the accuracy on the training set\n",
    "model.score(x_breast_cancer_pred, y_diagnosis)"
   ]
  },
  {
   "cell_type": "markdown",
   "metadata": {},
   "source": [
    "95.3% accuracy seems pretty good. Let's take a look at the coefficients."
   ]
  },
  {
   "cell_type": "code",
   "execution_count": 104,
   "metadata": {
    "collapsed": false
   },
   "outputs": [
    {
     "data": {
      "text/html": [
       "<div>\n",
       "<table border=\"1\" class=\"dataframe\">\n",
       "  <thead>\n",
       "    <tr style=\"text-align: right;\">\n",
       "      <th></th>\n",
       "      <th>0</th>\n",
       "      <th>1</th>\n",
       "    </tr>\n",
       "  </thead>\n",
       "  <tbody>\n",
       "    <tr>\n",
       "      <th>0</th>\n",
       "      <td>intercept</td>\n",
       "      <td>[-0.417799547096]</td>\n",
       "    </tr>\n",
       "    <tr>\n",
       "      <th>1</th>\n",
       "      <td>radius_mean</td>\n",
       "      <td>[-2.36000022]</td>\n",
       "    </tr>\n",
       "    <tr>\n",
       "      <th>2</th>\n",
       "      <td>radius_worst</td>\n",
       "      <td>[0.217117596118]</td>\n",
       "    </tr>\n",
       "    <tr>\n",
       "      <th>3</th>\n",
       "      <td>texture_mean</td>\n",
       "      <td>[-0.00741558171413]</td>\n",
       "    </tr>\n",
       "    <tr>\n",
       "      <th>4</th>\n",
       "      <td>texture_worst</td>\n",
       "      <td>[0.492804151759]</td>\n",
       "    </tr>\n",
       "    <tr>\n",
       "      <th>5</th>\n",
       "      <td>perimeter_mean</td>\n",
       "      <td>[0.763224052974]</td>\n",
       "    </tr>\n",
       "    <tr>\n",
       "      <th>6</th>\n",
       "      <td>perimeter_worst</td>\n",
       "      <td>[0.270968228668]</td>\n",
       "    </tr>\n",
       "    <tr>\n",
       "      <th>7</th>\n",
       "      <td>area_mean</td>\n",
       "      <td>[0.0363528627828]</td>\n",
       "    </tr>\n",
       "    <tr>\n",
       "      <th>8</th>\n",
       "      <td>area_worst</td>\n",
       "      <td>[-0.947504455581]</td>\n",
       "    </tr>\n",
       "    <tr>\n",
       "      <th>9</th>\n",
       "      <td>smoothness_mean</td>\n",
       "      <td>[0.915752454584]</td>\n",
       "    </tr>\n",
       "    <tr>\n",
       "      <th>10</th>\n",
       "      <td>smoothness_worst</td>\n",
       "      <td>[0.0221937306316]</td>\n",
       "    </tr>\n",
       "    <tr>\n",
       "      <th>11</th>\n",
       "      <td>compactness_mean</td>\n",
       "      <td>[0.0283316160747]</td>\n",
       "    </tr>\n",
       "    <tr>\n",
       "      <th>12</th>\n",
       "      <td>compactness_worst</td>\n",
       "      <td>[0.0489066845896]</td>\n",
       "    </tr>\n",
       "    <tr>\n",
       "      <th>13</th>\n",
       "      <td>concavity_mean</td>\n",
       "      <td>[0.055370043342]</td>\n",
       "    </tr>\n",
       "    <tr>\n",
       "      <th>14</th>\n",
       "      <td>concavity_worst</td>\n",
       "      <td>[-1.25195273434]</td>\n",
       "    </tr>\n",
       "    <tr>\n",
       "      <th>15</th>\n",
       "      <td>concave_points_mean</td>\n",
       "      <td>[0.255128164849]</td>\n",
       "    </tr>\n",
       "    <tr>\n",
       "      <th>16</th>\n",
       "      <td>concave_points_sd_error</td>\n",
       "      <td>[0.0136621317405]</td>\n",
       "    </tr>\n",
       "    <tr>\n",
       "      <th>17</th>\n",
       "      <td>concave_points_worst</td>\n",
       "      <td>[0.035222066278]</td>\n",
       "    </tr>\n",
       "    <tr>\n",
       "      <th>18</th>\n",
       "      <td>symmetry_mean</td>\n",
       "      <td>[0.359098612748]</td>\n",
       "    </tr>\n",
       "    <tr>\n",
       "      <th>19</th>\n",
       "      <td>symmetry_worst</td>\n",
       "      <td>[1.91040096217]</td>\n",
       "    </tr>\n",
       "    <tr>\n",
       "      <th>20</th>\n",
       "      <td>fractal_dimension_mean</td>\n",
       "      <td>[0.771539801728]</td>\n",
       "    </tr>\n",
       "    <tr>\n",
       "      <th>21</th>\n",
       "      <td>fractal_dimension_worst</td>\n",
       "      <td>[0.149289131225]</td>\n",
       "    </tr>\n",
       "  </tbody>\n",
       "</table>\n",
       "</div>"
      ],
      "text/plain": [
       "                          0                    1\n",
       "0                 intercept    [-0.417799547096]\n",
       "1               radius_mean        [-2.36000022]\n",
       "2              radius_worst     [0.217117596118]\n",
       "3              texture_mean  [-0.00741558171413]\n",
       "4             texture_worst     [0.492804151759]\n",
       "5            perimeter_mean     [0.763224052974]\n",
       "6           perimeter_worst     [0.270968228668]\n",
       "7                 area_mean    [0.0363528627828]\n",
       "8                area_worst    [-0.947504455581]\n",
       "9           smoothness_mean     [0.915752454584]\n",
       "10         smoothness_worst    [0.0221937306316]\n",
       "11         compactness_mean    [0.0283316160747]\n",
       "12        compactness_worst    [0.0489066845896]\n",
       "13           concavity_mean     [0.055370043342]\n",
       "14          concavity_worst     [-1.25195273434]\n",
       "15      concave_points_mean     [0.255128164849]\n",
       "16  concave_points_sd_error    [0.0136621317405]\n",
       "17     concave_points_worst     [0.035222066278]\n",
       "18            symmetry_mean     [0.359098612748]\n",
       "19           symmetry_worst      [1.91040096217]\n",
       "20   fractal_dimension_mean     [0.771539801728]\n",
       "21  fractal_dimension_worst     [0.149289131225]"
      ]
     },
     "execution_count": 104,
     "metadata": {},
     "output_type": "execute_result"
    }
   ],
   "source": [
    "# examine the coefficients\n",
    "pd.DataFrame(zip(x_breast_cancer_pred.columns, np.transpose(model.coef_)))"
   ]
  },
  {
   "cell_type": "markdown",
   "metadata": {},
   "source": [
    "Increase in mean radius leads to increase in likelihood of tumor being malignant.\n",
    "\n",
    "Increase in the worst concavity leads to increase in likelihood of tumor being malignant."
   ]
  },
  {
   "cell_type": "markdown",
   "metadata": {},
   "source": [
    "Let's visualize this."
   ]
  },
  {
   "cell_type": "code",
   "execution_count": 105,
   "metadata": {
    "collapsed": false
   },
   "outputs": [
    {
     "data": {
      "image/png": "[encoded data removed]",
      "text/plain": [
       "<matplotlib.figure.Figure at 0x121ea9c10>"
      ]
     },
     "metadata": {},
     "output_type": "display_data"
    }
   ],
   "source": [
    "def render_malignant(breast_cancer, malignant, benign):\n",
    "    plt.figure(figsize=(6, 6))\n",
    "\n",
    "    plt.scatter(np.extract(malignant, breast_cancer['radius_mean']), \n",
    "                np.extract(malignant, breast_cancer['concavity_worst']), \n",
    "                c='b', marker='+', label='malignant')\n",
    "    plt.scatter(np.extract(benign, breast_cancer['radius_mean']), \n",
    "                np.extract(benign, breast_cancer['concavity_worst']), \n",
    "                c='y', marker='o', label='benign')\n",
    "    plt.xlabel('Radius Mean');\n",
    "    plt.ylabel('Concavity Worst');\n",
    "    plt.axes().set_aspect('equal', 'datalim')\n",
    "\n",
    "malignant = breast_cancer['diagnosis'] == 'M'\n",
    "benign = breast_cancer['diagnosis'] == 'B'\n",
    "render_malignant(breast_cancer, malignant, benign)\n",
    "plt.legend();"
   ]
  },
  {
   "cell_type": "markdown",
   "metadata": {},
   "source": [
    "## Modeling"
   ]
  },
  {
   "cell_type": "markdown",
   "metadata": {},
   "source": [
    "### Build a model to predict the malignant tumors.  "
   ]
  },
  {
   "cell_type": "markdown",
   "metadata": {},
   "source": [
    "### Use at least two classification techniques; compare and contrast the advantages and disadvantages of each. Identify how you would control for overfitting in each classification technique."
   ]
  },
  {
   "cell_type": "markdown",
   "metadata": {},
   "source": [
    "Okay, let's look at our data again. We have an ID column, which are our independent samples (none are repeated). We want to predict malignancy (our \"target\" or \"label\"), which is a categorical response variable with all of our other columns, which are continuous variables. We have treated cells with a \"0\" as an \"NA.\" Normally, this would be a dangerous thing to just assume, so we are going to pretend that we talked with our data collectors and discovered that they were using 0's as placeholders. This seems what likely happened since a measure like perimeter mean is not likely to have a value of \"0.\" In a real data analysis, we would make extra sure that this was the intention of the data collectors, but we will assume 0 values as NA. Then we will ignore rows with missing values. We lose data this way, but we are also sure of its accuracy and precision.  \n",
    "\n",
    "There are a myriad of other ways to deal with missing values. We can create dummy flags for missing values. We can impute the missing value with mean or median (for more skewed distributions, choose median). You can also impute values using mean/median and other salient features of the data, like gender. With categorical variables, you can create a new level to code missing values. These methods are better at retaining data than the one we chose, but we are just going to ignore samples with missing values for simplicity."
   ]
  },
  {
   "cell_type": "markdown",
   "metadata": {},
   "source": [
    "For a machine learning problem, we are trying to predict a property of the data using n samples of data. In this case, we are trying to predict malignancy. Our data here is multivariate because our entries have multiple columns (multi-dimensional). \n",
    "\n",
    "Machine learning problems can then be divided into supervised and unsupervised. With unsupervised learning, our data would consist of input without any target to predict any target value. The goal in these types of problems may be to discover groups of similar examples within the data (clustering) or to determine the distribution of data within the input space (density estimation) or to project the data from a high-dimensional space down to two or three dimensions for the purpose of visualization. Some examples of unsupervised learning are Apriori algorithm and K-means.\n",
    "\n",
    "Since we are trying to predict something (malignancy of tumor--our target value), we will use supervised learning. Supervised learning comes in two flavors of task: regression and classification. Regression handles a continous target variable. We are trying to predict something finite and categorical (malignant or benign), so we will be using classification supervised learning. Some flavors of supervised learning are Regression, Decision Tree, Random Forest, KNN, Logistic Regression etc. \n",
    "\n",
    "Another flavor of machine learning is reinforcement learning, where the model is trained to make specific decision. It trains itself continuously using trial and error, learning from past experience and trying to capture the best possible knowledge to make accurate decisions. An example of reinforcement learning is the Markov Decision Process.\n",
    "\n",
    "We will be using Logistic Regression, Support Vector Machine, and Naive Bayes to predict malignancy of the tumor based on the mean measurements of the tumor. "
   ]
  },
  {
   "cell_type": "code",
   "execution_count": 106,
   "metadata": {
    "collapsed": true
   },
   "outputs": [],
   "source": [
    "# Create our test, training, and validation data\n",
    "X = x_breast_cancer_pred\n",
    "y = y_diagnosis\n",
    "x_train, x_test, y_train, y_test = train_test_split(X, y, test_size=0.3)\n",
    "x_test, x_val, y_test, y_val = train_test_split(x_test, y_test, test_size=0.5)"
   ]
  },
  {
   "cell_type": "markdown",
   "metadata": {},
   "source": [
    "Logistic Regression is used to estimate binary values (like 0/1 or malignant/benign) based on a set of independent variables. It predicts the probability of an event (in our case malignancy) by fitting the data to a logit function. \n",
    "\n",
    "Logistic regression is pretty robust: the independent and dependent variables don’t have to be normally distributed, or have equal variance or homogeneity in each group. It does not assume a linear relationships between the independent and dependent variables, it can handle nonlinear effects, and you can add interaction terms and power effects. There are lots of ways to regularize your model to correct for overfitting. Unlike Naive Bayes, you don't have to worry about your features being correlated. Logistic regression is much easier to interpret than Support Machine Vectors or Decision Trees; you get a nice probabilistic answer. You can also easily update the model to take in new data, which is difficult with SVM or decision trees. So, this is a method that is useful if you are looking for a probabilistic framework (like if you want confidence intervals) or if you expect to get more training data in the future that you would like to incorporate into your model. However, logistic regression requires much more data to achieve meaningful, stable results than a discriminant analysis.\n",
    "\n",
    "To reduce overfitting for a logistic regression model, we can keep it simple (use fewer parameters to tune). If we can remove a parameter without significantly increasing the out of sample prediction error, that is great. We can also use cross-validation, using some of the data points to build the model and then evaluate the error on the data points left out of the model. Repeat this, and you will get a better representative of the error you would expect with future values rather than just the data you have. Alternatively, we can use regularization to penalize certain sources of overfitting. \n",
    "\n",
    "As with any of these methods, better data is a better use of your time than picking the best algorithms (garbage in, garbage out). With huge datasets, you may want to choose an algorithm for its speed or ease of use rather than classification performance (look at Bayes instead of SVM!)."
   ]
  },
  {
   "cell_type": "code",
   "execution_count": 119,
   "metadata": {
    "collapsed": false
   },
   "outputs": [
    {
     "name": "stdout",
     "output_type": "stream",
     "text": [
      "LogisticRegression(C=1.0, class_weight=None, dual=False, fit_intercept=True,\n",
      "          intercept_scaling=1, max_iter=100, multi_class='ovr', n_jobs=1,\n",
      "          penalty='l2', random_state=None, solver='liblinear', tol=0.0001,\n",
      "          verbose=0, warm_start=False)\n",
      "             precision    recall  f1-score   support\n",
      "\n",
      "        0.0       0.98      0.96      0.97        51\n",
      "        1.0       0.94      0.97      0.95        32\n",
      "\n",
      "avg / total       0.96      0.96      0.96        83\n",
      "\n",
      "[[49  2]\n",
      " [ 1 31]]\n"
     ]
    }
   ],
   "source": [
    "# fit a logistic regression model to the data\n",
    "model = LogisticRegression()\n",
    "model.fit(x_train, y_train)\n",
    "print(model)\n",
    "# make predictions\n",
    "expected = y_test\n",
    "predicted = model.predict(x_test)\n",
    "# summarize the fit of the model\n",
    "print(metrics.classification_report(expected, predicted))\n",
    "print(metrics.confusion_matrix(expected, predicted))"
   ]
  },
  {
   "cell_type": "markdown",
   "metadata": {},
   "source": [
    "With the Support Vector Machine algorithm, each data point is plotted as a point in n-dimensional space (n is the number of independent predictor variables we have). We find the line that splits the data into two differently-classified groups in each pair combination of the n-dimensions. \n",
    "\n",
    "Support Vector Machine is effective in high-dimensional spaces, like we have here. There is high accuracy and nice theoretical guarantees regarding overfitting if you use the correct kernal. However, if the number of features is much greater than the number of samples, the method will likely give poor performance. Support Vector Machines also do not directly give probability estimates. You can get these using cross-validation. This is also a memory-intensive method. It is a bit harder to interpret than other methods. It is also a bit more difficult to run and tune. \n",
    "\n",
    "To reduce chances of overfitting with Support Vector, you want to avoid having a large number of features and few samples. As with any method, getting more data will reduce overfitting. You can also try some feature reduction techniques, like PCA to remove redundant features as a pre-processing step to Support Vector Machine. You can also try out various kernals coupled with cross validation to measure how well the model is generalizing to future data. As with any model, simpler is better."
   ]
  },
  {
   "cell_type": "code",
   "execution_count": 115,
   "metadata": {
    "collapsed": false
   },
   "outputs": [
    {
     "name": "stdout",
     "output_type": "stream",
     "text": [
      "SVC(C=1.0, cache_size=200, class_weight=None, coef0=0.0,\n",
      "  decision_function_shape=None, degree=3, gamma='auto', kernel='rbf',\n",
      "  max_iter=-1, probability=False, random_state=None, shrinking=True,\n",
      "  tol=0.001, verbose=False)\n",
      "             precision    recall  f1-score   support\n",
      "\n",
      "        0.0       0.61      1.00      0.76        51\n",
      "        1.0       0.00      0.00      0.00        32\n",
      "\n",
      "avg / total       0.38      0.61      0.47        83\n",
      "\n",
      "[[51  0]\n",
      " [32  0]]\n"
     ]
    },
    {
     "name": "stderr",
     "output_type": "stream",
     "text": [
      "/Users/nicholebennett/anaconda/lib/python2.7/site-packages/sklearn/metrics/classification.py:1074: UndefinedMetricWarning: Precision and F-score are ill-defined and being set to 0.0 in labels with no predicted samples.\n",
      "  'precision', 'predicted', average, warn_for)\n"
     ]
    }
   ],
   "source": [
    "# fit a SVM model to the data\n",
    "model = svm.SVC()\n",
    "model.fit(x_train, y_train)\n",
    "print(model)\n",
    "# make predictions\n",
    "expected = y_test\n",
    "predicted = model.predict(x_test)\n",
    "# summarize the fit of the model\n",
    "print(metrics.classification_report(expected, predicted))\n",
    "print(metrics.confusion_matrix(expected, predicted))"
   ]
  },
  {
   "cell_type": "markdown",
   "metadata": {},
   "source": [
    "Naive Bayes is a classification technique based on Bayes Theorem. This method is particularly useful for very large data sets. It is nice an simple and usually outperforms even highly sophisticated classification models. Essentially, we will be calculating the posterior probability P(m|x) (the probability of malignancy given a certain attribute of the tumor) from the prior probabilities of the predictor P(x), the prior probability of the target (malignancy) P(m), and the likelihood of the predictor tumor measurment given it is malignant P(x|m). P(m|x) = P(x|m)P(m)/P(x). This is often used for problems with more than two outcomes (we only have two here).\n",
    "\n",
    "Naive Bayes is useful because it is super simple. If the conditional independence assumption holds, this classifier will converge much quicker than disciminative models, so you will need less training data. This is a good method if you want something fast and easy that performs pretty well. The biggest disadvantage is that you can't learn anything about the interactions between features. \n",
    "\n",
    "Naive Bayes is relatively immune to overfitting. Your choice of priors will determine the amount of overfitting you need to worry about. Priors are your idea (evidence-based or not) of the state of the world before you fit your model, so you can really introduce bias this way. There's lots of argument about the best way to handle this. However, the hypothesis function for Naive Bayes is simpler compared to other algorithms, like logistic regression. It does not model interactions, so it ignores some of the data in the model; this can make it an inherently high bias model (has high approximation error but is unlikely to overfit). Essentially, this method can be biased by the priors you use (it can get really off target), but it doesn't get tricked into following all of the noise of the data like many other methods do. "
   ]
  },
  {
   "cell_type": "code",
   "execution_count": 113,
   "metadata": {
    "collapsed": false
   },
   "outputs": [
    {
     "name": "stdout",
     "output_type": "stream",
     "text": [
      "GaussianNB()\n",
      "             precision    recall  f1-score   support\n",
      "\n",
      "        0.0       0.96      0.96      0.96        51\n",
      "        1.0       0.94      0.94      0.94        32\n",
      "\n",
      "avg / total       0.95      0.95      0.95        83\n",
      "\n",
      "[[49  2]\n",
      " [ 2 30]]\n"
     ]
    }
   ],
   "source": [
    "# fit a Naive Bayes model to the data\n",
    "model = GaussianNB()\n",
    "model.fit(x_train, y_train)\n",
    "print(model)\n",
    "# make predictions\n",
    "expected = y_test\n",
    "predicted = model.predict(x_test)\n",
    "# summarize the fit of the model\n",
    "print(metrics.classification_report(expected, predicted))\n",
    "print(metrics.confusion_matrix(expected, predicted))"
   ]
  },
  {
   "cell_type": "markdown",
   "metadata": {},
   "source": [
    "# Part 2: Feedback"
   ]
  },
  {
   "cell_type": "markdown",
   "metadata": {},
   "source": [
    "# student-sample-1.py"
   ]
  },
  {
   "cell_type": "code",
   "execution_count": 109,
   "metadata": {
    "collapsed": false
   },
   "outputs": [
    {
     "ename": "ImportError",
     "evalue": "cannot import name LinearRegression",
     "output_type": "error",
     "traceback": [
      "\u001b[0;31m---------------------------------------------------------------------------\u001b[0m",
      "\u001b[0;31mImportError\u001b[0m                               Traceback (most recent call last)",
      "\u001b[0;32m<ipython-input-109-1d5f2541de3d>\u001b[0m in \u001b[0;36m<module>\u001b[0;34m()\u001b[0m\n\u001b[1;32m      3\u001b[0m \u001b[0;32mimport\u001b[0m \u001b[0mpandas\u001b[0m \u001b[0;32mas\u001b[0m \u001b[0mpd\u001b[0m\u001b[0;34m\u001b[0m\u001b[0m\n\u001b[1;32m      4\u001b[0m \u001b[0;32mimport\u001b[0m \u001b[0mnumpy\u001b[0m \u001b[0;32mas\u001b[0m \u001b[0mnp\u001b[0m\u001b[0;34m\u001b[0m\u001b[0m\n\u001b[0;32m----> 5\u001b[0;31m \u001b[0;32mfrom\u001b[0m \u001b[0msklearn\u001b[0m \u001b[0;32mimport\u001b[0m \u001b[0mLinearRegression\u001b[0m\u001b[0;34m\u001b[0m\u001b[0m\n\u001b[0m\u001b[1;32m      6\u001b[0m \u001b[0;32mfrom\u001b[0m \u001b[0msklearn\u001b[0m\u001b[0;34m.\u001b[0m\u001b[0mcross_validation\u001b[0m \u001b[0;32mimport\u001b[0m \u001b[0mcross_val_score\u001b[0m\u001b[0;34m\u001b[0m\u001b[0m\n\u001b[1;32m      7\u001b[0m \u001b[0;34m\u001b[0m\u001b[0m\n",
      "\u001b[0;31mImportError\u001b[0m: cannot import name LinearRegression"
     ]
    }
   ],
   "source": [
    "#!/usr/bin/env python\n",
    "\n",
    "import pandas as pd\n",
    "import numpy as np\n",
    "from sklearn import LinearRegression\n",
    "from sklearn.cross_validation import cross_val_score\n",
    "\n",
    "# Load data\n",
    "d = pd.read_csv('../data/train.csv')\n",
    "\n",
    "\n",
    "# Setup data for prediction\n",
    "x1 = data.SalaryNormalized\n",
    "x2 = pd.get_dummies(data.ContractType)\n",
    "\n",
    "# Setup model\n",
    "model = LinearRegression()\n",
    "\n",
    "# Evaluate model\n",
    "from sklearn.cross_validation import cross_val_score\n",
    "from sklearn.cross_validation import train_test_split\n",
    "scores = cross_val_score(model, x2, x1, cv=1, scoring='mean_absolute_error')\n",
    "print(scores.mean())"
   ]
  },
  {
   "cell_type": "markdown",
   "metadata": {},
   "source": [
    "### Code: Feel free to comment on style, library usage, or other improvements. "
   ]
  },
  {
   "cell_type": "markdown",
   "metadata": {},
   "source": [
    "General notes: I would have the student do these fixes themselves (my hands will never touch their keyboard). Also, I will not give them the answer. I will lead with questions or scenarios that will help lead them to the answer. If they are at a loss, I may help them with useful terms to Google. That way they can learn a troubleshooting process that they can take into their own work.\n",
    "\n",
    "For instance, I would have the student look at the first error, which is \"ImportError: cannot import name LinearRegression.\" Using questions (not giving away the answer), I would have them figure out that Line 5: from \"sklearn import LogisticRegression\" should be \"from sklearn.linear_model import LogisticRegression.\" Some Google-ing may be necessary, but I would want them to learn that this error was caused by improperly loading the module. Since we are talking about modules, I would have them look at their loading in modules and tell them best practice is to load them all in at first. So, I would have them move all of them to the top of the file, and they will likely notice that they have \"from sklearn.cross_validation import cross_val_score\" twice in there.\n",
    "\n",
    "I would lead the student to follow their variable names. One way to get students to see this is to get them to write down each variable name and what it contains. This will lead the student to see that they had named their dataframe \"d\" and then referred to it in Line 13 as \"data.\" They can fix this either by switching Lines 13 and 14 to \"d\" instead of \"data\" or switching line 9 from \"d\" to \"data.\" I would use this an an opportunity to get them to think about renaming their variables to more specific names. So, we'd also take a look at x1 and x2 and rename them to more appropriate and specific variables (more in the methodology section about which is the features and which is the response). If they are confused about this, I will have them take a look at the raw data and explain to me what a good, specific name for this dataframe might be. This data seems to be about jobs and their salaries, so let's give it a more approriate name. I would also get them to look through the entire file (good learning opportunity to use find and replace!) to replace all instances of this with their new variable name."
   ]
  },
  {
   "cell_type": "markdown",
   "metadata": {},
   "source": [
    "### Methodology: Feel free to comment on the student's data setup, modeling methodology, and model evaluation."
   ]
  },
  {
   "cell_type": "markdown",
   "metadata": {},
   "source": [
    "Before we even touch our code and read in our data, I want to take a look at our data more closely. I would have the student open up the file in excel or its open source equivalent and just look at the raw data. I will ask the student what each column holds. What type of data is it (categorical or continuous or something else?)? How are missing data points handled? Are they just blank cells or are they entered with NA? Is there any problematic-looking data formats? I would get the student to point out how the data could have been better coded (dealing with spaces and special symbols) and tell me how they want to handle the NaN values. (The blank spaces will be replaced with NaN). \n",
    "\n",
    "After this, I will get them to explore their data by making scatterplots and looking at the head and tail to make sure their data is what they expected. We still aren't to that first error, so I will just assume they do this in the interpreter so we can move along.\n",
    "\n",
    "We talk about whether or not to drop the rows with NA values. We will talk about the pros and cons of doing this and other ways to impute data. Whatever decision the student makes, I want them to have a sound statistical reason for doing so. \n",
    "\n",
    "Before analyzing their data, I want them to show me some exploratory analysis (histograms, scatterplots) and describe to me what the data looks like. \n",
    "\n",
    "Before we even get to the model that the student chose, I would get them to tell me the question they are trying to ask. It looks like they are trying to ask how salary depends on the contract type. If that is the case, then I would get them to characterize these two data types (salary is continuous, contract type is categorical). So we have salary, a continous variable, as our response/dedependent variable, and we have contract type, a categorical variable with two levels, as our predictor/independent variable. Did we choose the correct statistical test? Linear regression, which is what the student chose is used for a continuous dependent variable with a normal distribution and a continuous independent variable with a normal distribution. Another glaring thing is that the student has \"x1\" and \"x2\" instead of \"x\" and \"y\" for independent and dependent variables, respectively. This would be a good opportunity to clear up any confusion the studen may have with these. This is also a good opportunity to discuss potential problems one may run into doing predictive modeling with categorical variables. \n",
    "\n",
    "Let's assume the student meant to try to predict the type of job contract using the job salary. Then, I would lead the student to investigate Logistic Regression as a more appropriate model. They have already started dummy-coded their variables, but they are backwards and need to be just one binary response value. Let's fix that. I would get the student to recognize this by having them examine the X and y objects and think critically about them.\n",
    "\n",
    "We will pay special attention to getting the data in a format that the model wants--I would have the student walk me through any data transformations that need to happen (like having the y be a 1-D array instead of two columns of dummy variables as it is here).\n",
    "\n",
    "Then, when we are cross validating the model, I would have the student take me through their steps. Why did they choose cv=1, and what might be a better choice?"
   ]
  },
  {
   "cell_type": "markdown",
   "metadata": {},
   "source": [
    "### Conceptual Understanding: Finally, feel free to add any suggestions or takeaways on how the student could continue to improve their understanding of these concepts."
   ]
  },
  {
   "cell_type": "markdown",
   "metadata": {
    "collapsed": true
   },
   "source": [
    "This student seems to be struggling the most with what a dependent and independent variable is, so I might set up some different questions using their data to make sure they understand how to approach future analysis. With each data type, they will then identify some analyses that could be used to answer the statistical question. \n",
    "\n",
    "At this point, I would have the student think about some other ways this data could be analyzed (other machine-learning classification methods). What are some of the pros and cons of these?\n",
    "\n",
    "We would also talk about the best way to visualize this data to communicate it. For instance, we could plot the probability of full time job increases with increase in salary. \n",
    "\n",
    "We would also talk about some common statistical mistakes to make (and to be careful of), like coming up with a hypothesis after the fact or p-hacking. "
   ]
  },
  {
   "cell_type": "markdown",
   "metadata": {},
   "source": [
    "# student-sample-2.py"
   ]
  },
  {
   "cell_type": "code",
   "execution_count": 110,
   "metadata": {
    "collapsed": false
   },
   "outputs": [
    {
     "ename": "IOError",
     "evalue": "File ../data/train.csv does not exist",
     "output_type": "error",
     "traceback": [
      "\u001b[0;31m---------------------------------------------------------------------------\u001b[0m",
      "\u001b[0;31mIOError\u001b[0m                                   Traceback (most recent call last)",
      "\u001b[0;32m<ipython-input-110-bc16271ab93f>\u001b[0m in \u001b[0;36m<module>\u001b[0;34m()\u001b[0m\n\u001b[1;32m      7\u001b[0m \u001b[0;34m\u001b[0m\u001b[0m\n\u001b[1;32m      8\u001b[0m \u001b[0;31m# Load data\u001b[0m\u001b[0;34m\u001b[0m\u001b[0;34m\u001b[0m\u001b[0m\n\u001b[0;32m----> 9\u001b[0;31m \u001b[0mdata\u001b[0m \u001b[0;34m=\u001b[0m \u001b[0mpd\u001b[0m\u001b[0;34m.\u001b[0m\u001b[0mread_csv\u001b[0m\u001b[0;34m(\u001b[0m\u001b[0;34m'../data/train.csv'\u001b[0m\u001b[0;34m)\u001b[0m\u001b[0;34m\u001b[0m\u001b[0m\n\u001b[0m\u001b[1;32m     10\u001b[0m \u001b[0;34m\u001b[0m\u001b[0m\n\u001b[1;32m     11\u001b[0m \u001b[0;34m\u001b[0m\u001b[0m\n",
      "\u001b[0;32m/Users/nicholebennett/anaconda/lib/python2.7/site-packages/pandas/io/parsers.pyc\u001b[0m in \u001b[0;36mparser_f\u001b[0;34m(filepath_or_buffer, sep, delimiter, header, names, index_col, usecols, squeeze, prefix, mangle_dupe_cols, dtype, engine, converters, true_values, false_values, skipinitialspace, skiprows, skipfooter, nrows, na_values, keep_default_na, na_filter, verbose, skip_blank_lines, parse_dates, infer_datetime_format, keep_date_col, date_parser, dayfirst, iterator, chunksize, compression, thousands, decimal, lineterminator, quotechar, quoting, escapechar, comment, encoding, dialect, tupleize_cols, error_bad_lines, warn_bad_lines, skip_footer, doublequote, delim_whitespace, as_recarray, compact_ints, use_unsigned, low_memory, buffer_lines, memory_map, float_precision)\u001b[0m\n\u001b[1;32m    560\u001b[0m                     skip_blank_lines=skip_blank_lines)\n\u001b[1;32m    561\u001b[0m \u001b[0;34m\u001b[0m\u001b[0m\n\u001b[0;32m--> 562\u001b[0;31m         \u001b[0;32mreturn\u001b[0m \u001b[0m_read\u001b[0m\u001b[0;34m(\u001b[0m\u001b[0mfilepath_or_buffer\u001b[0m\u001b[0;34m,\u001b[0m \u001b[0mkwds\u001b[0m\u001b[0;34m)\u001b[0m\u001b[0;34m\u001b[0m\u001b[0m\n\u001b[0m\u001b[1;32m    563\u001b[0m \u001b[0;34m\u001b[0m\u001b[0m\n\u001b[1;32m    564\u001b[0m     \u001b[0mparser_f\u001b[0m\u001b[0;34m.\u001b[0m\u001b[0m__name__\u001b[0m \u001b[0;34m=\u001b[0m \u001b[0mname\u001b[0m\u001b[0;34m\u001b[0m\u001b[0m\n",
      "\u001b[0;32m/Users/nicholebennett/anaconda/lib/python2.7/site-packages/pandas/io/parsers.pyc\u001b[0m in \u001b[0;36m_read\u001b[0;34m(filepath_or_buffer, kwds)\u001b[0m\n\u001b[1;32m    313\u001b[0m \u001b[0;34m\u001b[0m\u001b[0m\n\u001b[1;32m    314\u001b[0m     \u001b[0;31m# Create the parser.\u001b[0m\u001b[0;34m\u001b[0m\u001b[0;34m\u001b[0m\u001b[0m\n\u001b[0;32m--> 315\u001b[0;31m     \u001b[0mparser\u001b[0m \u001b[0;34m=\u001b[0m \u001b[0mTextFileReader\u001b[0m\u001b[0;34m(\u001b[0m\u001b[0mfilepath_or_buffer\u001b[0m\u001b[0;34m,\u001b[0m \u001b[0;34m**\u001b[0m\u001b[0mkwds\u001b[0m\u001b[0;34m)\u001b[0m\u001b[0;34m\u001b[0m\u001b[0m\n\u001b[0m\u001b[1;32m    316\u001b[0m \u001b[0;34m\u001b[0m\u001b[0m\n\u001b[1;32m    317\u001b[0m     \u001b[0;32mif\u001b[0m \u001b[0;34m(\u001b[0m\u001b[0mnrows\u001b[0m \u001b[0;32mis\u001b[0m \u001b[0;32mnot\u001b[0m \u001b[0mNone\u001b[0m\u001b[0;34m)\u001b[0m \u001b[0;32mand\u001b[0m \u001b[0;34m(\u001b[0m\u001b[0mchunksize\u001b[0m \u001b[0;32mis\u001b[0m \u001b[0;32mnot\u001b[0m \u001b[0mNone\u001b[0m\u001b[0;34m)\u001b[0m\u001b[0;34m:\u001b[0m\u001b[0;34m\u001b[0m\u001b[0m\n",
      "\u001b[0;32m/Users/nicholebennett/anaconda/lib/python2.7/site-packages/pandas/io/parsers.pyc\u001b[0m in \u001b[0;36m__init__\u001b[0;34m(self, f, engine, **kwds)\u001b[0m\n\u001b[1;32m    643\u001b[0m             \u001b[0mself\u001b[0m\u001b[0;34m.\u001b[0m\u001b[0moptions\u001b[0m\u001b[0;34m[\u001b[0m\u001b[0;34m'has_index_names'\u001b[0m\u001b[0;34m]\u001b[0m \u001b[0;34m=\u001b[0m \u001b[0mkwds\u001b[0m\u001b[0;34m[\u001b[0m\u001b[0;34m'has_index_names'\u001b[0m\u001b[0;34m]\u001b[0m\u001b[0;34m\u001b[0m\u001b[0m\n\u001b[1;32m    644\u001b[0m \u001b[0;34m\u001b[0m\u001b[0m\n\u001b[0;32m--> 645\u001b[0;31m         \u001b[0mself\u001b[0m\u001b[0;34m.\u001b[0m\u001b[0m_make_engine\u001b[0m\u001b[0;34m(\u001b[0m\u001b[0mself\u001b[0m\u001b[0;34m.\u001b[0m\u001b[0mengine\u001b[0m\u001b[0;34m)\u001b[0m\u001b[0;34m\u001b[0m\u001b[0m\n\u001b[0m\u001b[1;32m    646\u001b[0m \u001b[0;34m\u001b[0m\u001b[0m\n\u001b[1;32m    647\u001b[0m     \u001b[0;32mdef\u001b[0m \u001b[0mclose\u001b[0m\u001b[0;34m(\u001b[0m\u001b[0mself\u001b[0m\u001b[0;34m)\u001b[0m\u001b[0;34m:\u001b[0m\u001b[0;34m\u001b[0m\u001b[0m\n",
      "\u001b[0;32m/Users/nicholebennett/anaconda/lib/python2.7/site-packages/pandas/io/parsers.pyc\u001b[0m in \u001b[0;36m_make_engine\u001b[0;34m(self, engine)\u001b[0m\n\u001b[1;32m    797\u001b[0m     \u001b[0;32mdef\u001b[0m \u001b[0m_make_engine\u001b[0m\u001b[0;34m(\u001b[0m\u001b[0mself\u001b[0m\u001b[0;34m,\u001b[0m \u001b[0mengine\u001b[0m\u001b[0;34m=\u001b[0m\u001b[0;34m'c'\u001b[0m\u001b[0;34m)\u001b[0m\u001b[0;34m:\u001b[0m\u001b[0;34m\u001b[0m\u001b[0m\n\u001b[1;32m    798\u001b[0m         \u001b[0;32mif\u001b[0m \u001b[0mengine\u001b[0m \u001b[0;34m==\u001b[0m \u001b[0;34m'c'\u001b[0m\u001b[0;34m:\u001b[0m\u001b[0;34m\u001b[0m\u001b[0m\n\u001b[0;32m--> 799\u001b[0;31m             \u001b[0mself\u001b[0m\u001b[0;34m.\u001b[0m\u001b[0m_engine\u001b[0m \u001b[0;34m=\u001b[0m \u001b[0mCParserWrapper\u001b[0m\u001b[0;34m(\u001b[0m\u001b[0mself\u001b[0m\u001b[0;34m.\u001b[0m\u001b[0mf\u001b[0m\u001b[0;34m,\u001b[0m \u001b[0;34m**\u001b[0m\u001b[0mself\u001b[0m\u001b[0;34m.\u001b[0m\u001b[0moptions\u001b[0m\u001b[0;34m)\u001b[0m\u001b[0;34m\u001b[0m\u001b[0m\n\u001b[0m\u001b[1;32m    800\u001b[0m         \u001b[0;32melse\u001b[0m\u001b[0;34m:\u001b[0m\u001b[0;34m\u001b[0m\u001b[0m\n\u001b[1;32m    801\u001b[0m             \u001b[0;32mif\u001b[0m \u001b[0mengine\u001b[0m \u001b[0;34m==\u001b[0m \u001b[0;34m'python'\u001b[0m\u001b[0;34m:\u001b[0m\u001b[0;34m\u001b[0m\u001b[0m\n",
      "\u001b[0;32m/Users/nicholebennett/anaconda/lib/python2.7/site-packages/pandas/io/parsers.pyc\u001b[0m in \u001b[0;36m__init__\u001b[0;34m(self, src, **kwds)\u001b[0m\n\u001b[1;32m   1211\u001b[0m         \u001b[0mkwds\u001b[0m\u001b[0;34m[\u001b[0m\u001b[0;34m'allow_leading_cols'\u001b[0m\u001b[0;34m]\u001b[0m \u001b[0;34m=\u001b[0m \u001b[0mself\u001b[0m\u001b[0;34m.\u001b[0m\u001b[0mindex_col\u001b[0m \u001b[0;32mis\u001b[0m \u001b[0;32mnot\u001b[0m \u001b[0mFalse\u001b[0m\u001b[0;34m\u001b[0m\u001b[0m\n\u001b[1;32m   1212\u001b[0m \u001b[0;34m\u001b[0m\u001b[0m\n\u001b[0;32m-> 1213\u001b[0;31m         \u001b[0mself\u001b[0m\u001b[0;34m.\u001b[0m\u001b[0m_reader\u001b[0m \u001b[0;34m=\u001b[0m \u001b[0m_parser\u001b[0m\u001b[0;34m.\u001b[0m\u001b[0mTextReader\u001b[0m\u001b[0;34m(\u001b[0m\u001b[0msrc\u001b[0m\u001b[0;34m,\u001b[0m \u001b[0;34m**\u001b[0m\u001b[0mkwds\u001b[0m\u001b[0;34m)\u001b[0m\u001b[0;34m\u001b[0m\u001b[0m\n\u001b[0m\u001b[1;32m   1214\u001b[0m \u001b[0;34m\u001b[0m\u001b[0m\n\u001b[1;32m   1215\u001b[0m         \u001b[0;31m# XXX\u001b[0m\u001b[0;34m\u001b[0m\u001b[0;34m\u001b[0m\u001b[0m\n",
      "\u001b[0;32mpandas/parser.pyx\u001b[0m in \u001b[0;36mpandas.parser.TextReader.__cinit__ (pandas/parser.c:3427)\u001b[0;34m()\u001b[0m\n",
      "\u001b[0;32mpandas/parser.pyx\u001b[0m in \u001b[0;36mpandas.parser.TextReader._setup_parser_source (pandas/parser.c:6861)\u001b[0;34m()\u001b[0m\n",
      "\u001b[0;31mIOError\u001b[0m: File ../data/train.csv does not exist"
     ]
    }
   ],
   "source": [
    "#!/usr/bin/env python\n",
    "\n",
    "import pandas as pd\n",
    "import numpy as np\n",
    "from sklearn.linear_model import LinearRegression\n",
    "from sklearn.cross_validation import cross_val_score\n",
    "\n",
    "# Load data\n",
    "data = pd.read_csv('../data/train.csv')\n",
    "\n",
    "\n",
    "# Setup data for prediction\n",
    "y = data.SalaryNormalized\n",
    "X = pd.get_dummies(data.ContractType)\n",
    "\n",
    "# Setup model\n",
    "model = LinearRegression()\n",
    "\n",
    "# Evaluate model\n",
    "scores = cross_val_score(model, X, y, cv=5, scoring='mean_absolute_error')\n",
    "print(scores.mean())"
   ]
  },
  {
   "cell_type": "markdown",
   "metadata": {},
   "source": [
    "### Code: Feel free to comment on style, library usage, or other improvements."
   ]
  },
  {
   "cell_type": "markdown",
   "metadata": {},
   "source": [
    "The code initially appears syntatically correct, but let's take a closer look. \n",
    "\n",
    "I would talk to this student about picking more specific names for variables. The names for the dataframe and model variables are all pretty generic, and I would help them narrow down better ones so they can remember what analysis they were running when they wrote this. "
   ]
  },
  {
   "cell_type": "markdown",
   "metadata": {},
   "source": [
    "### Methodology: Feel free to comment on the student's data setup, modeling methodology, and model evaluation."
   ]
  },
  {
   "cell_type": "markdown",
   "metadata": {},
   "source": [
    "Again, it looks like we have confused the model we should be using. We will check with the student's intended question, and make sure it is okay to switch the variables and proceed with a Logistic Regression. We also remember that y needs to be a 1-D array. "
   ]
  },
  {
   "cell_type": "markdown",
   "metadata": {},
   "source": [
    "### Conceptual Understanding: Finally, feel free to add any suggestions or takeaways on how the student could continue to improve their understanding of these concepts."
   ]
  },
  {
   "cell_type": "markdown",
   "metadata": {},
   "source": [
    "Again, I would ask the student about different analyses for different data types, using their data or other real-world data as an exmaple. Since this student seems to have a good understanding of the basics, I would talk to them more about how they cross-validated their model and why they chose the parameters they did. What might happen if they used different ones? Also, what are some strengths and weaknesses of the analysis they chose?"
   ]
  },
  {
   "cell_type": "code",
   "execution_count": null,
   "metadata": {
    "collapsed": true
   },
   "outputs": [],
   "source": []
  }
 ],
 "metadata": {
  "anaconda-cloud": {},
  "kernelspec": {
   "display_name": "Python [default]",
   "language": "python",
   "name": "python2"
  },
  "language_info": {
   "codemirror_mode": {
    "name": "ipython",
    "version": 2
   },
   "file_extension": ".py",
   "mimetype": "text/x-python",
   "name": "python",
   "nbconvert_exporter": "python",
   "pygments_lexer": "ipython2",
   "version": "2.7.12"
  }
 },
 "nbformat": 4,
 "nbformat_minor": 1
}
